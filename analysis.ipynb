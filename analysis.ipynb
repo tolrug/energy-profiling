{
 "cells": [
  {
   "cell_type": "code",
   "execution_count": 3,
   "metadata": {},
   "outputs": [],
   "source": [
    "import sys\n",
    "import datetime\n",
    "import math\n",
    "from typing import List, Tuple\n",
    "import numpy as np\n",
    "import pandas as pd\n",
    "import matplotlib.pyplot as plt\n",
    "import pprint as pp\n",
    "pd.options.mode.chained_assignment = None  # default='warn'\n",
    "\n",
    "# import ipdb; ipdb.set_trace()\n"
   ]
  },
  {
   "cell_type": "code",
   "execution_count": 4,
   "metadata": {},
   "outputs": [],
   "source": [
    "pd.set_option('display.max_rows', 100)"
   ]
  },
  {
   "cell_type": "code",
   "execution_count": 5,
   "metadata": {},
   "outputs": [],
   "source": [
    "df = pd.read_csv(\"data/steve-mar-2021.csv\", sep=';', index_col=0, dtype=object)"
   ]
  },
  {
   "cell_type": "code",
   "execution_count": 6,
   "metadata": {},
   "outputs": [],
   "source": [
    "df = df.sort_values(by='Time', ascending=True)"
   ]
  },
  {
   "cell_type": "code",
   "execution_count": 7,
   "metadata": {},
   "outputs": [
    {
     "data": {
      "text/html": [
       "<div>\n",
       "<style scoped>\n",
       "    .dataframe tbody tr th:only-of-type {\n",
       "        vertical-align: middle;\n",
       "    }\n",
       "\n",
       "    .dataframe tbody tr th {\n",
       "        vertical-align: top;\n",
       "    }\n",
       "\n",
       "    .dataframe thead th {\n",
       "        text-align: right;\n",
       "    }\n",
       "</style>\n",
       "<table border=\"1\" class=\"dataframe\">\n",
       "  <thead>\n",
       "    <tr style=\"text-align: right;\">\n",
       "      <th></th>\n",
       "      <th>Aircon1</th>\n",
       "      <th>Consumption</th>\n",
       "      <th>Export</th>\n",
       "      <th>Hotplate</th>\n",
       "      <th>Hotwater</th>\n",
       "      <th>Import</th>\n",
       "      <th>Lights1</th>\n",
       "      <th>Lights2</th>\n",
       "      <th>Net</th>\n",
       "      <th>Oven</th>\n",
       "      <th>Power1</th>\n",
       "      <th>Power2</th>\n",
       "      <th>Power3</th>\n",
       "      <th>Production</th>\n",
       "    </tr>\n",
       "    <tr>\n",
       "      <th>Time</th>\n",
       "      <th></th>\n",
       "      <th></th>\n",
       "      <th></th>\n",
       "      <th></th>\n",
       "      <th></th>\n",
       "      <th></th>\n",
       "      <th></th>\n",
       "      <th></th>\n",
       "      <th></th>\n",
       "      <th></th>\n",
       "      <th></th>\n",
       "      <th></th>\n",
       "      <th></th>\n",
       "      <th></th>\n",
       "    </tr>\n",
       "  </thead>\n",
       "  <tbody>\n",
       "    <tr>\n",
       "      <th>2021-03-01 00:01:00</th>\n",
       "      <td>11.50</td>\n",
       "      <td>157.19</td>\n",
       "      <td>0</td>\n",
       "      <td>0.03</td>\n",
       "      <td>0.02</td>\n",
       "      <td>158.48</td>\n",
       "      <td>0.69</td>\n",
       "      <td>33.62</td>\n",
       "      <td>158.48</td>\n",
       "      <td>0.01</td>\n",
       "      <td>59.94</td>\n",
       "      <td>10.05</td>\n",
       "      <td>41.36</td>\n",
       "      <td>0.30</td>\n",
       "    </tr>\n",
       "    <tr>\n",
       "      <th>2021-03-01 00:02:00</th>\n",
       "      <td>11.50</td>\n",
       "      <td>158.31</td>\n",
       "      <td>0</td>\n",
       "      <td>0.03</td>\n",
       "      <td>0.03</td>\n",
       "      <td>159.45</td>\n",
       "      <td>0.71</td>\n",
       "      <td>33.67</td>\n",
       "      <td>159.45</td>\n",
       "      <td>0.04</td>\n",
       "      <td>60.10</td>\n",
       "      <td>11.17</td>\n",
       "      <td>41.11</td>\n",
       "      <td>0.24</td>\n",
       "    </tr>\n",
       "    <tr>\n",
       "      <th>2021-03-01 00:03:00</th>\n",
       "      <td>11.56</td>\n",
       "      <td>157.94</td>\n",
       "      <td>0</td>\n",
       "      <td>0.04</td>\n",
       "      <td>0.04</td>\n",
       "      <td>159.79</td>\n",
       "      <td>0.68</td>\n",
       "      <td>33.89</td>\n",
       "      <td>159.79</td>\n",
       "      <td>0.03</td>\n",
       "      <td>60.55</td>\n",
       "      <td>10.11</td>\n",
       "      <td>41.08</td>\n",
       "      <td>0.22</td>\n",
       "    </tr>\n",
       "    <tr>\n",
       "      <th>2021-03-01 00:04:00</th>\n",
       "      <td>11.77</td>\n",
       "      <td>158.29</td>\n",
       "      <td>0</td>\n",
       "      <td>0.03</td>\n",
       "      <td>0.05</td>\n",
       "      <td>158.46</td>\n",
       "      <td>0.72</td>\n",
       "      <td>34.05</td>\n",
       "      <td>158.46</td>\n",
       "      <td>0.02</td>\n",
       "      <td>60.79</td>\n",
       "      <td>9.63</td>\n",
       "      <td>41.26</td>\n",
       "      <td>0.24</td>\n",
       "    </tr>\n",
       "    <tr>\n",
       "      <th>2021-03-01 00:05:00</th>\n",
       "      <td>11.65</td>\n",
       "      <td>158.83</td>\n",
       "      <td>0</td>\n",
       "      <td>0.04</td>\n",
       "      <td>0.08</td>\n",
       "      <td>161.16</td>\n",
       "      <td>0.83</td>\n",
       "      <td>34.04</td>\n",
       "      <td>161.16</td>\n",
       "      <td>0.06</td>\n",
       "      <td>60.27</td>\n",
       "      <td>10.70</td>\n",
       "      <td>41.20</td>\n",
       "      <td>0.26</td>\n",
       "    </tr>\n",
       "    <tr>\n",
       "      <th>...</th>\n",
       "      <td>...</td>\n",
       "      <td>...</td>\n",
       "      <td>...</td>\n",
       "      <td>...</td>\n",
       "      <td>...</td>\n",
       "      <td>...</td>\n",
       "      <td>...</td>\n",
       "      <td>...</td>\n",
       "      <td>...</td>\n",
       "      <td>...</td>\n",
       "      <td>...</td>\n",
       "      <td>...</td>\n",
       "      <td>...</td>\n",
       "      <td>...</td>\n",
       "    </tr>\n",
       "    <tr>\n",
       "      <th>2021-03-31 23:55:00</th>\n",
       "      <td>11.07</td>\n",
       "      <td>242.69</td>\n",
       "      <td>0</td>\n",
       "      <td>0.05</td>\n",
       "      <td>0.11</td>\n",
       "      <td>245.58</td>\n",
       "      <td>0.50</td>\n",
       "      <td>89.04</td>\n",
       "      <td>245.58</td>\n",
       "      <td>0.04</td>\n",
       "      <td>57.12</td>\n",
       "      <td>74.29</td>\n",
       "      <td>10.52</td>\n",
       "      <td>0.39</td>\n",
       "    </tr>\n",
       "    <tr>\n",
       "      <th>2021-03-31 23:56:00</th>\n",
       "      <td>11.21</td>\n",
       "      <td>271.17</td>\n",
       "      <td>0</td>\n",
       "      <td>0.05</td>\n",
       "      <td>0.12</td>\n",
       "      <td>268.83</td>\n",
       "      <td>0.50</td>\n",
       "      <td>89.01</td>\n",
       "      <td>268.83</td>\n",
       "      <td>0.05</td>\n",
       "      <td>57.31</td>\n",
       "      <td>102.35</td>\n",
       "      <td>10.63</td>\n",
       "      <td>0.38</td>\n",
       "    </tr>\n",
       "    <tr>\n",
       "      <th>2021-03-31 23:57:00</th>\n",
       "      <td>11.06</td>\n",
       "      <td>243.28</td>\n",
       "      <td>0</td>\n",
       "      <td>0.05</td>\n",
       "      <td>0.05</td>\n",
       "      <td>244.47</td>\n",
       "      <td>0.51</td>\n",
       "      <td>88.85</td>\n",
       "      <td>244.47</td>\n",
       "      <td>0.04</td>\n",
       "      <td>57.19</td>\n",
       "      <td>75.05</td>\n",
       "      <td>10.54</td>\n",
       "      <td>0.40</td>\n",
       "    </tr>\n",
       "    <tr>\n",
       "      <th>2021-03-31 23:58:00</th>\n",
       "      <td>11.12</td>\n",
       "      <td>267.81</td>\n",
       "      <td>0</td>\n",
       "      <td>0.02</td>\n",
       "      <td>0.08</td>\n",
       "      <td>265.86</td>\n",
       "      <td>0.50</td>\n",
       "      <td>88.98</td>\n",
       "      <td>265.86</td>\n",
       "      <td>0.04</td>\n",
       "      <td>57.59</td>\n",
       "      <td>99.21</td>\n",
       "      <td>10.29</td>\n",
       "      <td>0.45</td>\n",
       "    </tr>\n",
       "    <tr>\n",
       "      <th>2021-03-31 23:59:00</th>\n",
       "      <td>11.14</td>\n",
       "      <td>276.50</td>\n",
       "      <td>0</td>\n",
       "      <td>0.02</td>\n",
       "      <td>0.08</td>\n",
       "      <td>272.32</td>\n",
       "      <td>0.49</td>\n",
       "      <td>88.98</td>\n",
       "      <td>272.32</td>\n",
       "      <td>0.03</td>\n",
       "      <td>58.02</td>\n",
       "      <td>107.19</td>\n",
       "      <td>10.57</td>\n",
       "      <td>0.32</td>\n",
       "    </tr>\n",
       "  </tbody>\n",
       "</table>\n",
       "<p>44639 rows × 14 columns</p>\n",
       "</div>"
      ],
      "text/plain": [
       "                    Aircon1 Consumption Export Hotplate Hotwater  Import  \\\n",
       "Time                                                                       \n",
       "2021-03-01 00:01:00   11.50      157.19      0     0.03     0.02  158.48   \n",
       "2021-03-01 00:02:00   11.50      158.31      0     0.03     0.03  159.45   \n",
       "2021-03-01 00:03:00   11.56      157.94      0     0.04     0.04  159.79   \n",
       "2021-03-01 00:04:00   11.77      158.29      0     0.03     0.05  158.46   \n",
       "2021-03-01 00:05:00   11.65      158.83      0     0.04     0.08  161.16   \n",
       "...                     ...         ...    ...      ...      ...     ...   \n",
       "2021-03-31 23:55:00   11.07      242.69      0     0.05     0.11  245.58   \n",
       "2021-03-31 23:56:00   11.21      271.17      0     0.05     0.12  268.83   \n",
       "2021-03-31 23:57:00   11.06      243.28      0     0.05     0.05  244.47   \n",
       "2021-03-31 23:58:00   11.12      267.81      0     0.02     0.08  265.86   \n",
       "2021-03-31 23:59:00   11.14      276.50      0     0.02     0.08  272.32   \n",
       "\n",
       "                    Lights1 Lights2     Net  Oven Power1  Power2 Power3  \\\n",
       "Time                                                                      \n",
       "2021-03-01 00:01:00    0.69   33.62  158.48  0.01  59.94   10.05  41.36   \n",
       "2021-03-01 00:02:00    0.71   33.67  159.45  0.04  60.10   11.17  41.11   \n",
       "2021-03-01 00:03:00    0.68   33.89  159.79  0.03  60.55   10.11  41.08   \n",
       "2021-03-01 00:04:00    0.72   34.05  158.46  0.02  60.79    9.63  41.26   \n",
       "2021-03-01 00:05:00    0.83   34.04  161.16  0.06  60.27   10.70  41.20   \n",
       "...                     ...     ...     ...   ...    ...     ...    ...   \n",
       "2021-03-31 23:55:00    0.50   89.04  245.58  0.04  57.12   74.29  10.52   \n",
       "2021-03-31 23:56:00    0.50   89.01  268.83  0.05  57.31  102.35  10.63   \n",
       "2021-03-31 23:57:00    0.51   88.85  244.47  0.04  57.19   75.05  10.54   \n",
       "2021-03-31 23:58:00    0.50   88.98  265.86  0.04  57.59   99.21  10.29   \n",
       "2021-03-31 23:59:00    0.49   88.98  272.32  0.03  58.02  107.19  10.57   \n",
       "\n",
       "                    Production  \n",
       "Time                            \n",
       "2021-03-01 00:01:00       0.30  \n",
       "2021-03-01 00:02:00       0.24  \n",
       "2021-03-01 00:03:00       0.22  \n",
       "2021-03-01 00:04:00       0.24  \n",
       "2021-03-01 00:05:00       0.26  \n",
       "...                        ...  \n",
       "2021-03-31 23:55:00       0.39  \n",
       "2021-03-31 23:56:00       0.38  \n",
       "2021-03-31 23:57:00       0.40  \n",
       "2021-03-31 23:58:00       0.45  \n",
       "2021-03-31 23:59:00       0.32  \n",
       "\n",
       "[44639 rows x 14 columns]"
      ]
     },
     "execution_count": 7,
     "metadata": {},
     "output_type": "execute_result"
    }
   ],
   "source": [
    "df = df.iloc[1:,:]\n",
    "df"
   ]
  },
  {
   "cell_type": "code",
   "execution_count": 8,
   "metadata": {},
   "outputs": [
    {
     "data": {
      "text/plain": [
       "Time\n",
       "2021-03-01 00:01:00    59.94\n",
       "2021-03-01 00:02:00    60.10\n",
       "2021-03-01 00:03:00    60.55\n",
       "2021-03-01 00:04:00    60.79\n",
       "2021-03-01 00:05:00    60.27\n",
       "                       ...  \n",
       "2021-03-31 23:55:00    57.12\n",
       "2021-03-31 23:56:00    57.31\n",
       "2021-03-31 23:57:00    57.19\n",
       "2021-03-31 23:58:00    57.59\n",
       "2021-03-31 23:59:00    58.02\n",
       "Name: Power1, Length: 44639, dtype: object"
      ]
     },
     "execution_count": 8,
     "metadata": {},
     "output_type": "execute_result"
    }
   ],
   "source": [
    "powerpoints_1=df.loc[:, \"Power1\"]\n",
    "powerpoints_1\n"
   ]
  },
  {
   "cell_type": "code",
   "execution_count": 9,
   "metadata": {},
   "outputs": [],
   "source": [
    "def filter_function(x):\n",
    "    if type(x) == str:\n",
    "        return 0\n",
    "    else:\n",
    "        return int(round(float(x),0))\n",
    "    "
   ]
  },
  {
   "cell_type": "code",
   "execution_count": 10,
   "metadata": {},
   "outputs": [],
   "source": [
    "# Removes invalid data and converts everything to whole number-rounded ints\n",
    "def process_row(series: pd.Series) -> pd.Series:\n",
    "#     series = pd.Series([int(round(float(row),0)) for row in series.tolist()])\n",
    "#     series = series.replace(r'\\'-?\\w', '0', regex=True)\n",
    "    series1 = pd.Series([0 if str(row).startswith(\"'\") else row for row in series])\n",
    "#     [print(row) for row in series if str(row).startswith(\"'\")]\n",
    "\n",
    "    \n",
    "\n",
    "    \n",
    "    \n",
    "#     m = series.apply(lambda x: x[0].startswith(\"'\"))\n",
    "#     print(series[m])\n",
    "#     [print(i) for i in series[m]]\n",
    "    series1 = series1.apply(lambda row: int(round(float(row),0)))\n",
    "    series1.index = series.index\n",
    "#     series = series.apply(filter_function)\n",
    "#     for index, row in series.iteritems():\n",
    "#         if type(row) is str: \n",
    "#             if (row[0] == \"'\"):\n",
    "#                 try:\n",
    "#                     # if this throws an IndexError, the row is invalid\n",
    "#                     second_digit = row[2]\n",
    "\n",
    "#                     # remove ' \n",
    "#                     series[index] = row[1:]            \n",
    "#                 except IndexError:\n",
    "#                     # delete invalid row\n",
    "#                     del(series[index])\n",
    "#                     continue\n",
    "\n",
    "        # convert to ints rounded to nearest whole number\n",
    "#         series[index] = int(round(float(row),0))\n",
    "    return series1"
   ]
  },
  {
   "cell_type": "code",
   "execution_count": null,
   "metadata": {},
   "outputs": [],
   "source": []
  },
  {
   "cell_type": "code",
   "execution_count": 11,
   "metadata": {},
   "outputs": [
    {
     "data": {
      "text/plain": [
       "Time\n",
       "2021-03-01 00:01:00    60\n",
       "2021-03-01 00:02:00    60\n",
       "2021-03-01 00:03:00    61\n",
       "2021-03-01 00:04:00    61\n",
       "2021-03-01 00:05:00    60\n",
       "                       ..\n",
       "2021-03-31 23:55:00    57\n",
       "2021-03-31 23:56:00    57\n",
       "2021-03-31 23:57:00    57\n",
       "2021-03-31 23:58:00    58\n",
       "2021-03-31 23:59:00    58\n",
       "Length: 44639, dtype: int64"
      ]
     },
     "execution_count": 11,
     "metadata": {},
     "output_type": "execute_result"
    }
   ],
   "source": [
    "powerpoints_1 = process_row(powerpoints_1)\n",
    "powerpoints_1"
   ]
  },
  {
   "cell_type": "code",
   "execution_count": 12,
   "metadata": {},
   "outputs": [],
   "source": [
    "# Returns a tuple of shape (closest_index, closest_value),\n",
    "# which contains the closest value to the given value in the given array\n",
    "def get_nearest(arr: List[int], value: int) -> Tuple[int, int]:\n",
    "    closest = sys.maxsize\n",
    "    closest_index = sys.maxsize\n",
    "    for index, i in enumerate(arr):\n",
    "        if (abs(value-i) < abs(value-closest)):\n",
    "            closest = i\n",
    "            closest_index = index\n",
    "    \n",
    "    return closest_index, closest"
   ]
  },
  {
   "cell_type": "code",
   "execution_count": 13,
   "metadata": {},
   "outputs": [],
   "source": [
    "# Returns an ordered series where the indexes are power values and the first values are the frequencies.\n",
    "# The first element in the series is the most frequent \n",
    "def get_frequencies(freqs: pd.Series, series: pd.Series) -> pd.Series:\n",
    "#     freqs = cleaned_data.value_counts()\n",
    "    new_values = []\n",
    "    new_freqs = []\n",
    "    i = 1\n",
    "    j = 0\n",
    "\n",
    "    # initialise lists to contain first item in the value_counts()\n",
    "    new_values.append(freqs.iloc[0:0+1].index.values[0])\n",
    "    new_freqs.append(freqs[freqs.iloc[0:0+1].index.values[0]])\n",
    "\n",
    "    for value, freq in freqs.iteritems():\n",
    "        # last item so checking 'next' item will throw IndexError\n",
    "        if (value == series.value_counts().iloc[-1:].index.values[0]):\n",
    "            i+=1\n",
    "            j+=1\n",
    "            continue\n",
    "\n",
    "        current_value = freqs.iloc[j:j+1].index.values[0]\n",
    "        compared_index, compared_value = get_nearest(new_values, current_value)\n",
    "\n",
    "        # basically the same\n",
    "        if (abs(current_value - compared_value) < 8 ):\n",
    "            new_values[compared_index] = (current_value + compared_value) / 2\n",
    "            new_freqs[compared_index] = freqs[current_value] + new_freqs[compared_index]\n",
    "\n",
    "        # not the same so insert new entry \n",
    "        else:\n",
    "            new_values.append(current_value)\n",
    "            new_freqs.append(freqs[current_value])\n",
    "            i+=1\n",
    "        j+=1    \n",
    "\n",
    "\n",
    "    return pd.Series(new_freqs, index=new_values).sort_values(ascending=False)\n",
    "\n",
    "        \n",
    "        \n",
    "        \n",
    "        \n",
    "        "
   ]
  },
  {
   "cell_type": "code",
   "execution_count": 14,
   "metadata": {},
   "outputs": [],
   "source": [
    "freqs = powerpoints_1.value_counts()"
   ]
  },
  {
   "cell_type": "code",
   "execution_count": 15,
   "metadata": {},
   "outputs": [],
   "source": [
    "first_freqs_count = get_frequencies(freqs, powerpoints_1)"
   ]
  },
  {
   "cell_type": "code",
   "execution_count": 16,
   "metadata": {},
   "outputs": [],
   "source": [
    "# Calling this a second time (with the result of the first call passed in) groups the frequencies more tightly\n",
    "second_freqs_count = get_frequencies(first_freqs_count, powerpoints_1)"
   ]
  },
  {
   "cell_type": "code",
   "execution_count": 17,
   "metadata": {},
   "outputs": [
    {
     "data": {
      "text/plain": [
       "35.832072      32980\n",
       "66.114847       9673\n",
       "6.152771        6201\n",
       "109.151367      3284\n",
       "94.519531       2458\n",
       "               ...  \n",
       "1844.000000        1\n",
       "2531.000000        1\n",
       "2674.000000        1\n",
       "1874.000000        1\n",
       "3468.000000        1\n",
       "Length: 188, dtype: int64"
      ]
     },
     "execution_count": 17,
     "metadata": {},
     "output_type": "execute_result"
    }
   ],
   "source": [
    "second_freqs_count"
   ]
  },
  {
   "cell_type": "code",
   "execution_count": 18,
   "metadata": {},
   "outputs": [],
   "source": [
    "# Gets the two most frequent power readings of the data.\n",
    "# From this, we can determine the cycling power signals of the refrigerator.\n",
    "def get_modes(data: pd.Series) -> Tuple[int, int]:\n",
    "    \n",
    "    # First mode\n",
    "    value_counts = data.value_counts()\n",
    "    ser = value_counts.index\n",
    "    mode = ser[0]\n",
    "    count = 0\n",
    "    for i in ser:\n",
    "        if (abs(i-mode) < 10):\n",
    "            count += 1\n",
    "        else:\n",
    "            break\n",
    "\n",
    "\n",
    "    val_total = 0\n",
    "    freq_total = 0\n",
    "    index = 0\n",
    "    while (index < count):\n",
    "        val_total += value_counts.iloc[index] * ser[index]\n",
    "        freq_total += value_counts.iloc[index]\n",
    "        index += 1\n",
    "    mode = int(round((val_total / freq_total), 2))\n",
    "\n",
    "    \n",
    "    # Second mode\n",
    "    i = 0\n",
    "    for index, freq in value_counts.iteritems():\n",
    "        if (not (abs(ser[i] - mode) < 10)):\n",
    "            second_mode = ser[i]\n",
    "            break\n",
    "        i+=1\n",
    "\n",
    "    return mode, second_mode\n",
    "        \n",
    "    \n",
    "    "
   ]
  },
  {
   "cell_type": "code",
   "execution_count": 19,
   "metadata": {},
   "outputs": [
    {
     "data": {
      "text/plain": [
       "(59, 14)"
      ]
     },
     "execution_count": 19,
     "metadata": {},
     "output_type": "execute_result"
    }
   ],
   "source": [
    "get_modes(powerpoints_1)"
   ]
  },
  {
   "cell_type": "code",
   "execution_count": 20,
   "metadata": {},
   "outputs": [],
   "source": [
    "# Return True if the peak value (less the peak start value) is within the range specified (less the peak start value)\n",
    "def isInRange(peak_value: int, trough_value: int, min_power: int, max_power: int) -> bool:\n",
    "    if ((peak_value - trough_value >= min_power) and\n",
    "        (peak_value - trough_value <= max_power)):\n",
    "        return True\n",
    "    return False"
   ]
  },
  {
   "cell_type": "code",
   "execution_count": 21,
   "metadata": {},
   "outputs": [],
   "source": [
    "# Returns a series of tuples of shape: (peak_start_time, peak_max_value, peak_duration),\n",
    "# where each peak is within the range specified, finishes within the specified duration, and \n",
    "# is off for at least off_requirement minutes after the peak\n",
    "def get_peaks(data: pd.Series, min_power: int, max_power: int, min_required_duration: int = 0, max_required_duration: int = sys.maxsize, off_requirement: int = 0) -> List[Tuple[str, int, int]]:\n",
    "    i = 5\n",
    "    peaks = []\n",
    "    \n",
    "    while i < len(data):\n",
    "#         if (i == 3916):\n",
    "#             import ipdb; ipdb.set_trace()\n",
    "\n",
    "        peak_duration = 2 # +1 for the initial turning on, +1 for turning off\n",
    "        try:\n",
    "            curr_idx = i\n",
    "            prev_idx = i-1\n",
    "            next_idx = i+1\n",
    "            climb_start_idx = 0\n",
    "            peak_idx = 0\n",
    "            if (data.iloc[curr_idx] - data.iloc[prev_idx] > 50): # could be the start of a peak\n",
    "                climb_start_idx = prev_idx # mark start of climb...\n",
    "                peak_idx = curr_idx\n",
    "                while(True):\n",
    "                    curr_off_duration = off_requirement\n",
    "                    if (data.iloc[next_idx] - data.iloc[curr_idx] > 10): # still rising... not at peak yet\n",
    "                        curr_idx+=1\n",
    "                        prev_idx+=1\n",
    "                        next_idx+=1\n",
    "                        if (data.iloc[curr_idx] > data.iloc[peak_idx]):\n",
    "                            peak_idx=curr_idx\n",
    "                        peak_duration+=1\n",
    "                    elif (abs(data.iloc[next_idx] - data.iloc[curr_idx]) < 10): # not rising but still at the same peak\n",
    "                        curr_idx+=1\n",
    "                        prev_idx+=1\n",
    "                        next_idx+=1\n",
    "                        peak_duration+=1\n",
    "                    elif (data.iloc[next_idx] > data.iloc[climb_start_idx] + 150): # not at (close enough to) being a trough yet\n",
    "                        curr_idx+=1\n",
    "                        prev_idx+=1\n",
    "                        next_idx+=1\n",
    "                        peak_duration+=1\n",
    "                    else: # at a trough, so append climb_start which is the initial peak\n",
    "                        if (peak_duration <= max_required_duration and \n",
    "                            isInRange(data.iloc[peak_idx], data.iloc[climb_start_idx], min_power, max_power)):\n",
    "                            satisfied_off_requirement = True\n",
    "                            while (curr_off_duration > 0):\n",
    "                                if (data.iloc[next_idx+1] > data.iloc[next_idx] + 100): # hasn't been a trough for long enough\n",
    "                                    satisfied_off_requirement = False\n",
    "                                    break\n",
    "                                curr_off_duration -= 1\n",
    "                                curr_idx+=1\n",
    "                                prev_idx+=1\n",
    "                                next_idx+=1\n",
    "                            if (not satisfied_off_requirement):\n",
    "                                curr_idx = next_idx\n",
    "                                prev_idx = curr_idx-1\n",
    "                                next_idx+=1\n",
    "                                continue\n",
    "                            if (not peak_duration < min_required_duration):\n",
    "                                peaks.append((data.index[climb_start_idx], data.iloc[peak_idx] - data.iloc[climb_start_idx], peak_duration))\n",
    "                        break\n",
    "            i = next_idx\n",
    "        except IndexError:\n",
    "            i = next_idx\n",
    "    \n",
    "    return peaks"
   ]
  },
  {
   "cell_type": "code",
   "execution_count": 22,
   "metadata": {
    "scrolled": true
   },
   "outputs": [
    {
     "name": "stdout",
     "output_type": "stream",
     "text": [
      "243\n",
      "[('2021-03-01 06:26:00', 847, 2),\n",
      " ('2021-03-01 07:25:00', 1915, 8),\n",
      " ('2021-03-01 07:33:00', 1787, 3),\n",
      " ('2021-03-01 07:37:00', 1817, 4),\n",
      " ('2021-03-01 10:52:00', 742, 6),\n",
      " ('2021-03-01 13:19:00', 1716, 8),\n",
      " ('2021-03-01 14:22:00', 1144, 7),\n",
      " ('2021-03-01 14:40:00', 2054, 4),\n",
      " ('2021-03-01 18:56:00', 744, 3),\n",
      " ('2021-03-01 19:46:00', 1489, 3),\n",
      " ('2021-03-02 06:09:00', 866, 2),\n",
      " ('2021-03-02 06:55:00', 1414, 5),\n",
      " ('2021-03-02 17:00:00', 2023, 5),\n",
      " ('2021-03-02 18:01:00', 748, 5),\n",
      " ('2021-03-02 18:36:00', 908, 2),\n",
      " ('2021-03-02 20:03:00', 1971, 5),\n",
      " ('2021-03-02 20:48:00', 1991, 4),\n",
      " ('2021-03-02 21:45:00', 2147, 4),\n",
      " ('2021-03-03 05:38:00', 929, 2),\n",
      " ('2021-03-03 06:48:00', 1395, 5),\n",
      " ('2021-03-03 16:15:00', 1973, 4),\n",
      " ('2021-03-03 17:31:00', 796, 2),\n",
      " ('2021-03-03 21:33:00', 2180, 6),\n",
      " ('2021-03-03 21:50:00', 2101, 4),\n",
      " ('2021-03-04 05:31:00', 934, 2),\n",
      " ('2021-03-04 06:42:00', 1408, 5),\n",
      " ('2021-03-04 15:05:00', 1829, 2),\n",
      " ('2021-03-04 15:09:00', 1004, 2),\n",
      " ('2021-03-04 15:21:00', 1765, 3),\n",
      " ('2021-03-04 17:56:00', 734, 3),\n",
      " ('2021-03-04 18:28:00', 737, 5),\n",
      " ('2021-03-04 19:25:00', 924, 2),\n",
      " ('2021-03-04 21:53:00', 2096, 10),\n",
      " ('2021-03-05 06:04:00', 784, 2),\n",
      " ('2021-03-05 06:52:00', 1419, 8),\n",
      " ('2021-03-05 14:48:00', 1680, 5),\n",
      " ('2021-03-05 19:55:00', 1436, 7),\n",
      " ('2021-03-05 20:10:00', 1566, 3),\n",
      " ('2021-03-06 03:50:00', 2179, 4),\n",
      " ('2021-03-06 05:57:00', 930, 2),\n",
      " ('2021-03-06 06:21:00', 1461, 5),\n",
      " ('2021-03-06 10:08:00', 1509, 4),\n",
      " ('2021-03-06 10:18:00', 1438, 4),\n",
      " ('2021-03-06 11:26:00', 1822, 2),\n",
      " ('2021-03-06 13:42:00', 1526, 3),\n",
      " ('2021-03-07 05:57:00', 735, 3),\n",
      " ('2021-03-07 07:42:00', 1421, 5),\n",
      " ('2021-03-07 07:50:00', 1960, 5),\n",
      " ('2021-03-07 17:34:00', 2008, 6),\n",
      " ('2021-03-07 18:01:00', 776, 2),\n",
      " ('2021-03-07 18:20:00', 785, 3),\n",
      " ('2021-03-07 18:32:00', 731, 3),\n",
      " ('2021-03-08 07:04:00', 898, 2),\n",
      " ('2021-03-08 08:13:00', 1989, 5),\n",
      " ('2021-03-08 09:37:00', 878, 4),\n",
      " ('2021-03-08 10:13:00', 772, 4),\n",
      " ('2021-03-08 11:41:00', 800, 4),\n",
      " ('2021-03-08 12:51:00', 2108, 5),\n",
      " ('2021-03-08 13:42:00', 2023, 4),\n",
      " ('2021-03-08 14:33:00', 927, 2),\n",
      " ('2021-03-08 17:16:00', 1696, 4),\n",
      " ('2021-03-08 17:56:00', 1455, 4),\n",
      " ('2021-03-08 18:56:00', 901, 2),\n",
      " ('2021-03-08 19:34:00', 2187, 9),\n",
      " ('2021-03-09 09:20:00', 1927, 4),\n",
      " ('2021-03-09 09:27:00', 1223, 3),\n",
      " ('2021-03-09 10:37:00', 761, 4),\n",
      " ('2021-03-09 13:43:00', 951, 2),\n",
      " ('2021-03-09 14:02:00', 1629, 4),\n",
      " ('2021-03-09 17:29:00', 1658, 4),\n",
      " ('2021-03-09 18:17:00', 704, 4),\n",
      " ('2021-03-09 18:58:00', 905, 2),\n",
      " ('2021-03-10 07:09:00', 1427, 8),\n",
      " ('2021-03-10 17:38:00', 749, 2),\n",
      " ('2021-03-10 17:57:00', 721, 5),\n",
      " ('2021-03-10 18:30:00', 1924, 6),\n",
      " ('2021-03-10 18:50:00', 764, 3),\n",
      " ('2021-03-10 21:49:00', 2123, 4),\n",
      " ('2021-03-11 05:53:00', 938, 2),\n",
      " ('2021-03-11 06:46:00', 1373, 7),\n",
      " ('2021-03-11 14:57:00', 1873, 3),\n",
      " ('2021-03-11 18:17:00', 1057, 2),\n",
      " ('2021-03-11 18:54:00', 1639, 3),\n",
      " ('2021-03-11 18:57:00', 993, 3),\n",
      " ('2021-03-11 20:47:00', 2168, 4),\n",
      " ('2021-03-12 06:06:00', 944, 3),\n",
      " ('2021-03-12 06:41:00', 1777, 5),\n",
      " ('2021-03-12 06:51:00', 1388, 6),\n",
      " ('2021-03-12 18:05:00', 1506, 2),\n",
      " ('2021-03-12 18:14:00', 776, 2),\n",
      " ('2021-03-12 21:38:00', 2150, 4),\n",
      " ('2021-03-12 22:34:00', 2187, 10),\n",
      " ('2021-03-13 05:46:00', 1075, 2),\n",
      " ('2021-03-13 10:28:00', 2004, 4),\n",
      " ('2021-03-13 10:41:00', 2155, 6),\n",
      " ('2021-03-13 14:19:00', 2107, 7),\n",
      " ('2021-03-13 17:51:00', 1550, 3),\n",
      " ('2021-03-13 18:47:00', 703, 5),\n",
      " ('2021-03-13 18:53:00', 720, 4),\n",
      " ('2021-03-13 19:17:00', 902, 2),\n",
      " ('2021-03-14 05:37:00', 799, 2),\n",
      " ('2021-03-14 07:11:00', 1401, 3),\n",
      " ('2021-03-14 07:15:00', 1353, 3),\n",
      " ('2021-03-14 13:20:00', 945, 2),\n",
      " ('2021-03-14 13:43:00', 1522, 4),\n",
      " ('2021-03-14 15:49:00', 2048, 6),\n",
      " ('2021-03-14 16:59:00', 2000, 4),\n",
      " ('2021-03-14 19:30:00', 1017, 2),\n",
      " ('2021-03-14 21:39:00', 2164, 4),\n",
      " ('2021-03-15 05:49:00', 725, 3),\n",
      " ('2021-03-15 07:25:00', 704, 5),\n",
      " ('2021-03-15 08:28:00', 1939, 4),\n",
      " ('2021-03-15 13:51:00', 937, 3),\n",
      " ('2021-03-15 14:14:00', 1823, 4),\n",
      " ('2021-03-15 14:18:00', 732, 2),\n",
      " ('2021-03-15 14:43:00', 2097, 4),\n",
      " ('2021-03-15 16:58:00', 1928, 7),\n",
      " ('2021-03-15 18:12:00', 1418, 5),\n",
      " ('2021-03-15 21:51:00', 2134, 5),\n",
      " ('2021-03-16 05:57:00', 889, 2),\n",
      " ('2021-03-16 06:46:00', 720, 5),\n",
      " ('2021-03-16 18:03:00', 803, 2),\n",
      " ('2021-03-16 18:11:00', 1990, 6),\n",
      " ('2021-03-16 19:08:00', 925, 2),\n",
      " ('2021-03-17 04:34:00', 2158, 4),\n",
      " ('2021-03-17 06:16:00', 926, 2),\n",
      " ('2021-03-17 06:56:00', 1481, 5),\n",
      " ('2021-03-17 17:06:00', 1986, 7),\n",
      " ('2021-03-17 18:09:00', 717, 5),\n",
      " ('2021-03-17 18:24:00', 756, 3),\n",
      " ('2021-03-18 03:54:00', 2163, 4),\n",
      " ('2021-03-18 06:49:00', 1389, 5),\n",
      " ('2021-03-18 15:22:00', 1339, 3),\n",
      " ('2021-03-18 15:25:00', 1467, 3),\n",
      " ('2021-03-18 18:29:00', 1401, 6),\n",
      " ('2021-03-18 19:11:00', 915, 2),\n",
      " ('2021-03-19 03:44:00', 2193, 4),\n",
      " ('2021-03-19 05:24:00', 920, 2),\n",
      " ('2021-03-19 06:31:00', 1362, 4),\n",
      " ('2021-03-19 06:45:00', 741, 5),\n",
      " ('2021-03-19 09:00:00', 2012, 4),\n",
      " ('2021-03-19 18:15:00', 1631, 4),\n",
      " ('2021-03-19 18:50:00', 825, 3),\n",
      " ('2021-03-19 19:51:00', 1616, 3),\n",
      " ('2021-03-19 20:15:00', 1387, 5),\n",
      " ('2021-03-20 06:32:00', 722, 4),\n",
      " ('2021-03-20 07:52:00', 1893, 5),\n",
      " ('2021-03-20 07:59:00', 1448, 3),\n",
      " ('2021-03-20 21:05:00', 2164, 4),\n",
      " ('2021-03-21 05:36:00', 941, 2),\n",
      " ('2021-03-21 10:06:00', 997, 2),\n",
      " ('2021-03-21 10:23:00', 1938, 3),\n",
      " ('2021-03-21 11:06:00', 2040, 5),\n",
      " ('2021-03-21 18:15:00', 948, 3),\n",
      " ('2021-03-21 19:03:00', 1424, 5),\n",
      " ('2021-03-21 21:48:00', 2127, 4),\n",
      " ('2021-03-22 08:45:00', 716, 6),\n",
      " ('2021-03-22 11:58:00', 1068, 2),\n",
      " ('2021-03-22 13:07:00', 712, 4),\n",
      " ('2021-03-22 15:58:00', 1075, 2),\n",
      " ('2021-03-22 16:19:00', 1900, 4),\n",
      " ('2021-03-22 16:24:00', 1893, 3),\n",
      " ('2021-03-22 17:42:00', 1918, 7),\n",
      " ('2021-03-22 18:18:00', 1412, 3),\n",
      " ('2021-03-22 18:31:00', 935, 2),\n",
      " ('2021-03-22 19:18:00', 1957, 5),\n",
      " ('2021-03-22 22:00:00', 2199, 8),\n",
      " ('2021-03-22 22:08:00', 2121, 4),\n",
      " ('2021-03-23 05:33:00', 1304, 3),\n",
      " ('2021-03-23 06:34:00', 1399, 7),\n",
      " ('2021-03-23 17:39:00', 2040, 7),\n",
      " ('2021-03-23 17:46:00', 793, 2),\n",
      " ('2021-03-23 18:05:00', 737, 7),\n",
      " ('2021-03-23 18:46:00', 935, 3),\n",
      " ('2021-03-23 19:41:00', 1058, 3),\n",
      " ('2021-03-23 21:40:00', 2186, 5),\n",
      " ('2021-03-24 02:31:00', 850, 2),\n",
      " ('2021-03-24 06:50:00', 1413, 6),\n",
      " ('2021-03-24 18:15:00', 716, 4),\n",
      " ('2021-03-24 18:36:00', 1004, 2),\n",
      " ('2021-03-24 23:30:00', 776, 2),\n",
      " ('2021-03-25 06:34:00', 1429, 5),\n",
      " ('2021-03-25 06:40:00', 850, 3),\n",
      " ('2021-03-25 18:14:00', 740, 5),\n",
      " ('2021-03-25 18:48:00', 872, 3),\n",
      " ('2021-03-25 19:22:00', 1364, 5),\n",
      " ('2021-03-25 21:44:00', 2183, 10),\n",
      " ('2021-03-26 18:24:00', 717, 5),\n",
      " ('2021-03-26 18:56:00', 1321, 3),\n",
      " ('2021-03-26 19:30:00', 1076, 3),\n",
      " ('2021-03-26 21:39:00', 2195, 7),\n",
      " ('2021-03-26 21:47:00', 2078, 4),\n",
      " ('2021-03-27 05:57:00', 1030, 2),\n",
      " ('2021-03-27 06:06:00', 1421, 4),\n",
      " ('2021-03-27 06:19:00', 1415, 3),\n",
      " ('2021-03-27 08:42:00', 730, 5),\n",
      " ('2021-03-27 09:00:00', 2025, 4),\n",
      " ('2021-03-27 09:04:00', 1129, 7),\n",
      " ('2021-03-27 17:29:00', 1199, 3),\n",
      " ('2021-03-27 18:41:00', 984, 2),\n",
      " ('2021-03-27 22:48:00', 2186, 5),\n",
      " ('2021-03-28 05:46:00', 1007, 2),\n",
      " ('2021-03-28 09:23:00', 1578, 4),\n",
      " ('2021-03-28 10:06:00', 2040, 5),\n",
      " ('2021-03-28 13:30:00', 731, 2),\n",
      " ('2021-03-28 15:36:00', 1993, 7),\n",
      " ('2021-03-28 17:04:00', 1987, 9),\n",
      " ('2021-03-28 18:11:00', 706, 4),\n",
      " ('2021-03-28 18:58:00', 864, 3),\n",
      " ('2021-03-28 19:28:00', 1635, 4),\n",
      " ('2021-03-28 21:25:00', 2164, 10),\n",
      " ('2021-03-29 03:24:00', 946, 2),\n",
      " ('2021-03-29 06:13:00', 956, 2),\n",
      " ('2021-03-29 07:00:00', 1945, 5),\n",
      " ('2021-03-29 07:47:00', 1952, 4),\n",
      " ('2021-03-29 08:20:00', 2026, 5),\n",
      " ('2021-03-29 08:30:00', 1883, 3),\n",
      " ('2021-03-29 09:03:00', 772, 4),\n",
      " ('2021-03-29 09:08:00', 763, 4),\n",
      " ('2021-03-29 11:53:00', 1489, 5),\n",
      " ('2021-03-29 12:18:00', 796, 6),\n",
      " ('2021-03-29 12:27:00', 2077, 4),\n",
      " ('2021-03-29 15:16:00', 783, 4),\n",
      " ('2021-03-29 17:48:00', 748, 2),\n",
      " ('2021-03-29 18:01:00', 1617, 6),\n",
      " ('2021-03-29 18:40:00', 821, 2),\n",
      " ('2021-03-29 21:52:00', 2097, 4),\n",
      " ('2021-03-30 05:51:00', 1026, 2),\n",
      " ('2021-03-30 12:13:00', 1405, 3),\n",
      " ('2021-03-30 16:07:00', 1736, 3),\n",
      " ('2021-03-30 16:50:00', 2026, 7),\n",
      " ('2021-03-30 18:10:00', 720, 5),\n",
      " ('2021-03-30 18:57:00', 995, 2),\n",
      " ('2021-03-30 20:57:00', 2126, 4),\n",
      " ('2021-03-31 05:24:00', 777, 2),\n",
      " ('2021-03-31 07:49:00', 1535, 3),\n",
      " ('2021-03-31 07:52:00', 1733, 4),\n",
      " ('2021-03-31 12:47:00', 790, 2),\n",
      " ('2021-03-31 14:18:00', 1672, 3),\n",
      " ('2021-03-31 16:39:00', 2005, 5),\n",
      " ('2021-03-31 18:04:00', 709, 5),\n",
      " ('2021-03-31 18:37:00', 994, 2),\n",
      " ('2021-03-31 20:30:00', 2162, 5)]\n"
     ]
    }
   ],
   "source": [
    "food_prep_peaks = get_peaks(powerpoints_1, 700, 2200, 0, 10, 0)\n",
    "print(len(food_prep_peaks))\n",
    "pp.pprint(food_prep_peaks)\n"
   ]
  },
  {
   "cell_type": "code",
   "execution_count": 23,
   "metadata": {},
   "outputs": [
    {
     "name": "stdout",
     "output_type": "stream",
     "text": [
      "123\n",
      "[('2021-03-01 06:26:00', 847, 2),\n",
      " ('2021-03-01 10:52:00', 742, 6),\n",
      " ('2021-03-01 14:22:00', 1144, 7),\n",
      " ('2021-03-01 18:56:00', 744, 3),\n",
      " ('2021-03-02 06:09:00', 866, 2),\n",
      " ('2021-03-02 18:01:00', 748, 5),\n",
      " ('2021-03-02 18:36:00', 908, 2),\n",
      " ('2021-03-03 05:38:00', 929, 2),\n",
      " ('2021-03-03 17:31:00', 796, 2),\n",
      " ('2021-03-04 05:31:00', 934, 2),\n",
      " ('2021-03-04 15:09:00', 1004, 2),\n",
      " ('2021-03-04 17:56:00', 734, 3),\n",
      " ('2021-03-04 18:28:00', 737, 5),\n",
      " ('2021-03-04 19:25:00', 924, 2),\n",
      " ('2021-03-05 06:04:00', 784, 2),\n",
      " ('2021-03-05 17:55:00', 627, 5),\n",
      " ('2021-03-06 05:57:00', 930, 2),\n",
      " ('2021-03-06 11:11:00', 678, 3),\n",
      " ('2021-03-07 05:57:00', 735, 3),\n",
      " ('2021-03-07 18:01:00', 776, 2),\n",
      " ('2021-03-07 18:20:00', 785, 3),\n",
      " ('2021-03-07 18:32:00', 731, 3),\n",
      " ('2021-03-08 07:04:00', 898, 2),\n",
      " ('2021-03-08 09:37:00', 878, 4),\n",
      " ('2021-03-08 10:13:00', 772, 4),\n",
      " ('2021-03-08 11:07:00', 641, 2),\n",
      " ('2021-03-08 11:41:00', 800, 4),\n",
      " ('2021-03-08 14:33:00', 927, 2),\n",
      " ('2021-03-08 18:56:00', 901, 2),\n",
      " ('2021-03-09 10:37:00', 761, 4),\n",
      " ('2021-03-09 11:54:00', 698, 3),\n",
      " ('2021-03-09 13:43:00', 951, 2),\n",
      " ('2021-03-09 18:17:00', 704, 4),\n",
      " ('2021-03-09 18:58:00', 905, 2),\n",
      " ('2021-03-10 17:38:00', 749, 2),\n",
      " ('2021-03-10 17:57:00', 721, 5),\n",
      " ('2021-03-10 18:50:00', 764, 3),\n",
      " ('2021-03-11 05:53:00', 938, 2),\n",
      " ('2021-03-11 18:17:00', 1057, 2),\n",
      " ('2021-03-11 18:57:00', 993, 3),\n",
      " ('2021-03-12 06:06:00', 944, 3),\n",
      " ('2021-03-12 17:55:00', 615, 3),\n",
      " ('2021-03-12 18:14:00', 776, 2),\n",
      " ('2021-03-12 19:17:00', 689, 3),\n",
      " ('2021-03-13 05:46:00', 1075, 2),\n",
      " ('2021-03-13 18:47:00', 703, 5),\n",
      " ('2021-03-13 18:53:00', 720, 4),\n",
      " ('2021-03-13 19:17:00', 902, 2),\n",
      " ('2021-03-14 05:37:00', 799, 2),\n",
      " ('2021-03-14 12:51:00', 652, 2),\n",
      " ('2021-03-14 13:20:00', 945, 2),\n",
      " ('2021-03-14 17:55:00', 699, 4),\n",
      " ('2021-03-14 19:30:00', 1017, 2),\n",
      " ('2021-03-15 05:49:00', 725, 3),\n",
      " ('2021-03-15 07:25:00', 704, 5),\n",
      " ('2021-03-15 13:51:00', 937, 3),\n",
      " ('2021-03-15 14:18:00', 732, 2),\n",
      " ('2021-03-16 05:57:00', 889, 2),\n",
      " ('2021-03-16 06:46:00', 720, 5),\n",
      " ('2021-03-16 18:03:00', 803, 2),\n",
      " ('2021-03-16 19:08:00', 925, 2),\n",
      " ('2021-03-17 06:16:00', 926, 2),\n",
      " ('2021-03-17 18:09:00', 717, 5),\n",
      " ('2021-03-17 18:24:00', 756, 3),\n",
      " ('2021-03-18 19:11:00', 915, 2),\n",
      " ('2021-03-19 05:24:00', 920, 2),\n",
      " ('2021-03-19 06:45:00', 741, 5),\n",
      " ('2021-03-19 18:50:00', 825, 3),\n",
      " ('2021-03-20 06:32:00', 722, 4),\n",
      " ('2021-03-20 18:32:00', 662, 4),\n",
      " ('2021-03-20 19:05:00', 645, 3),\n",
      " ('2021-03-21 05:36:00', 941, 2),\n",
      " ('2021-03-21 10:06:00', 997, 2),\n",
      " ('2021-03-21 17:50:00', 697, 4),\n",
      " ('2021-03-21 18:15:00', 948, 3),\n",
      " ('2021-03-22 04:52:00', 619, 3),\n",
      " ('2021-03-22 08:45:00', 716, 6),\n",
      " ('2021-03-22 11:58:00', 1068, 2),\n",
      " ('2021-03-22 13:07:00', 712, 4),\n",
      " ('2021-03-22 15:58:00', 1075, 2),\n",
      " ('2021-03-22 17:49:00', 689, 6),\n",
      " ('2021-03-22 18:31:00', 935, 2),\n",
      " ('2021-03-23 17:46:00', 793, 2),\n",
      " ('2021-03-23 18:05:00', 737, 7),\n",
      " ('2021-03-23 18:46:00', 935, 3),\n",
      " ('2021-03-23 19:41:00', 1058, 3),\n",
      " ('2021-03-24 02:31:00', 850, 2),\n",
      " ('2021-03-24 18:15:00', 716, 4),\n",
      " ('2021-03-24 18:36:00', 1004, 2),\n",
      " ('2021-03-24 23:30:00', 776, 2),\n",
      " ('2021-03-25 06:40:00', 850, 3),\n",
      " ('2021-03-25 18:14:00', 740, 5),\n",
      " ('2021-03-25 18:48:00', 872, 3),\n",
      " ('2021-03-26 18:24:00', 717, 5),\n",
      " ('2021-03-26 19:30:00', 1076, 3),\n",
      " ('2021-03-27 05:57:00', 1030, 2),\n",
      " ('2021-03-27 08:42:00', 730, 5),\n",
      " ('2021-03-27 09:04:00', 1129, 7),\n",
      " ('2021-03-27 17:29:00', 1199, 3),\n",
      " ('2021-03-27 18:41:00', 984, 2),\n",
      " ('2021-03-28 05:46:00', 1007, 2),\n",
      " ('2021-03-28 13:30:00', 731, 2),\n",
      " ('2021-03-28 14:55:00', 625, 2),\n",
      " ('2021-03-28 18:08:00', 697, 3),\n",
      " ('2021-03-28 18:11:00', 706, 4),\n",
      " ('2021-03-28 18:58:00', 864, 3),\n",
      " ('2021-03-29 03:24:00', 946, 2),\n",
      " ('2021-03-29 06:13:00', 956, 2),\n",
      " ('2021-03-29 09:03:00', 772, 4),\n",
      " ('2021-03-29 09:08:00', 763, 4),\n",
      " ('2021-03-29 11:39:00', 690, 3),\n",
      " ('2021-03-29 12:18:00', 796, 6),\n",
      " ('2021-03-29 15:16:00', 783, 4),\n",
      " ('2021-03-29 17:48:00', 748, 2),\n",
      " ('2021-03-29 18:40:00', 821, 2),\n",
      " ('2021-03-30 05:51:00', 1026, 2),\n",
      " ('2021-03-30 18:10:00', 720, 5),\n",
      " ('2021-03-30 18:57:00', 995, 2),\n",
      " ('2021-03-31 05:17:00', 677, 3),\n",
      " ('2021-03-31 05:24:00', 777, 2),\n",
      " ('2021-03-31 12:47:00', 790, 2),\n",
      " ('2021-03-31 18:04:00', 709, 5),\n",
      " ('2021-03-31 18:37:00', 994, 2)]\n"
     ]
    }
   ],
   "source": [
    "hfs01a_microwave_peaks = get_peaks(powerpoints_1, 600, 1200, 0, 10, 0)\n",
    "print(len(hfs01a_microwave_peaks))\n",
    "pp.pprint(hfs01a_microwave_peaks)"
   ]
  },
  {
   "cell_type": "code",
   "execution_count": 24,
   "metadata": {},
   "outputs": [
    {
     "data": {
      "text/plain": [
       "Time\n",
       "2021-03-01 00:01:00    0\n",
       "2021-03-01 00:02:00    0\n",
       "2021-03-01 00:03:00    0\n",
       "2021-03-01 00:04:00    0\n",
       "2021-03-01 00:05:00    0\n",
       "                      ..\n",
       "2021-03-31 23:55:00    0\n",
       "2021-03-31 23:56:00    0\n",
       "2021-03-31 23:57:00    0\n",
       "2021-03-31 23:58:00    0\n",
       "2021-03-31 23:59:00    0\n",
       "Length: 44639, dtype: int64"
      ]
     },
     "execution_count": 24,
     "metadata": {},
     "output_type": "execute_result"
    }
   ],
   "source": [
    "# Stovetop peaks\n",
    "stove=df.loc[:, \"Oven\"]\n",
    "stove = process_row(stove)\n",
    "stove"
   ]
  },
  {
   "cell_type": "code",
   "execution_count": 25,
   "metadata": {},
   "outputs": [
    {
     "name": "stdout",
     "output_type": "stream",
     "text": [
      "26\n",
      "[('2021-03-01 18:08:00', 2121, 32),\n",
      " ('2021-03-03 16:55:00', 2286, 79),\n",
      " ('2021-03-06 10:14:00', 2348, 17),\n",
      " ('2021-03-06 13:42:00', 2312, 22),\n",
      " ('2021-03-07 17:49:00', 2331, 32),\n",
      " ('2021-03-09 17:34:00', 2254, 22),\n",
      " ('2021-03-10 19:04:00', 2268, 15),\n",
      " ('2021-03-11 17:26:00', 2273, 35),\n",
      " ('2021-03-12 18:04:00', 2181, 16),\n",
      " ('2021-03-15 13:46:00', 2240, 12),\n",
      " ('2021-03-17 17:11:00', 2236, 43),\n",
      " ('2021-03-18 17:56:00', 2200, 51),\n",
      " ('2021-03-20 15:47:00', 2417, 24),\n",
      " ('2021-03-20 18:02:00', 2177, 25),\n",
      " ('2021-03-22 12:43:00', 2216, 17),\n",
      " ('2021-03-22 18:18:00', 2194, 23),\n",
      " ('2021-03-24 18:03:00', 2241, 48),\n",
      " ('2021-03-25 17:55:00', 2259, 39),\n",
      " ('2021-03-26 16:41:00', 2339, 67),\n",
      " ('2021-03-27 17:29:00', 2144, 23),\n",
      " ('2021-03-28 11:04:00', 2363, 11),\n",
      " ('2021-03-29 17:47:00', 2139, 18),\n",
      " ('2021-03-30 10:34:00', 2480, 43),\n",
      " ('2021-03-30 17:34:00', 2244, 23),\n",
      " ('2021-03-30 20:36:00', 2041, 3),\n",
      " ('2021-03-31 17:04:00', 2322, 64)]\n"
     ]
    }
   ],
   "source": [
    "hfs01a_stove_peaks = get_peaks(stove, 500, 5000, 0, 120, 60)\n",
    "print(len(hfs01a_stove_peaks))\n",
    "pp.pprint(hfs01a_stove_peaks)"
   ]
  },
  {
   "cell_type": "code",
   "execution_count": 26,
   "metadata": {},
   "outputs": [],
   "source": [
    "lights=df.loc[:, \"Lights2\"]"
   ]
  },
  {
   "cell_type": "code",
   "execution_count": 27,
   "metadata": {},
   "outputs": [],
   "source": [
    "lights = process_row(lights)"
   ]
  },
  {
   "cell_type": "code",
   "execution_count": 28,
   "metadata": {},
   "outputs": [
    {
     "data": {
      "text/plain": [
       "(0, 19)"
      ]
     },
     "execution_count": 28,
     "metadata": {},
     "output_type": "execute_result"
    }
   ],
   "source": [
    "get_modes(lights)"
   ]
  },
  {
   "cell_type": "code",
   "execution_count": 29,
   "metadata": {},
   "outputs": [],
   "source": [
    "# Returns True if the value is between the start and end times\n",
    "def timeInRange(value: str, start: str, end: str, days_overlap: bool) -> bool:\n",
    "    midnight_mins = 1440\n",
    "    \n",
    "    # get all strings into int's representing total minutes\n",
    "    value_mins = (int(value[0:2]) * 60) + int(value[3:5])\n",
    "    start_mins = (int(start[0:2]) * 60) + int(start[3:5])\n",
    "    end_mins = (int(end[0:2]) * 60) + int(end[3:5])\n",
    "     \n",
    "    # if the end time is in the early hours of the next day, alter the value time and end time by adding 24hours  \n",
    "    if (days_overlap):\n",
    "        end_mins += 24 * 60\n",
    "        if not (midnight_mins - value_mins < midnight_mins - start_mins):\n",
    "            value_mins += (24 * 60)\n",
    "    \n",
    "    if (value_mins <= end_mins and value_mins >= start_mins):\n",
    "        return True\n",
    "    else:\n",
    "        return False\n",
    "    \n",
    "    \n",
    "    "
   ]
  },
  {
   "cell_type": "code",
   "execution_count": 30,
   "metadata": {},
   "outputs": [],
   "source": [
    "# Returns the average time in the given data as a formatted string\n",
    "def get_average_wake_or_sleep(data: List[Tuple[str, str, int]], overnight_cases: bool = False) -> str:\n",
    "    total_mins = 0\n",
    "    for row in data:\n",
    "        row_mins = (int(row[0][11:13]) * 60) + int(row[0][14:16])\n",
    "        \n",
    "        if (overnight_cases and row_mins <= 120):\n",
    "            row_mins += (24 * 60)\n",
    "        total_mins += row_mins\n",
    "    \n",
    "    hours = (total_mins / (len(data) * 60)) % 24\n",
    "    hours = int(math.floor(hours))\n",
    "    mins = total_mins % 60\n",
    "     \n",
    "    dt = datetime.datetime(2000, 1, 1, hours, mins, 0)\n",
    "    \n",
    "    return dt.strftime(\"%X\")\n",
    "        \n",
    "        \n",
    "        \n",
    "    "
   ]
  },
  {
   "cell_type": "code",
   "execution_count": 31,
   "metadata": {},
   "outputs": [],
   "source": [
    "# Returns the most common sleep time and wake time (i.e. circadian rythm)\n",
    "# TODO: Ignore weekends for a more accurate result\n",
    "def get_circadian_rythm(data: pd.Series) -> Tuple[str, str]:\n",
    "    i = 0\n",
    "    res = []\n",
    "    on_cases = []\n",
    "    off_cases = []\n",
    "    resting_power = get_modes(data)[0]\n",
    "    while i < len(data):\n",
    "        try:\n",
    "            on_duration = 0\n",
    "            off_duration = 0\n",
    "            while (data.iloc[i] > resting_power): # lights are on\n",
    "                on_duration += 1\n",
    "                i+=1\n",
    "            \n",
    "            if on_duration > 120 and timeInRange(data.index[i][11:], '19:00:00', '02:00:00', True): # lights have been on for more than 100 minutes\n",
    "                off_cases.append((data.index[i], 'turning off', on_duration))\n",
    "\n",
    "            while (data.iloc[i] <= resting_power): # lights are off\n",
    "                off_duration += 1\n",
    "                i+=1\n",
    "                \n",
    "            if off_duration > 120 and timeInRange(data.index[i][11:], '03:00:00', '10:00:00', False): # lights have been off for more than 100 minutes\n",
    "                on_cases.append((data.index[i], 'turning on', off_duration))\n",
    "\n",
    "            i+=1\n",
    "        \n",
    "        except IndexError:\n",
    "            i+=1\n",
    "            \n",
    "    average_wake = get_average_wake_or_sleep(on_cases)\n",
    "    average_sleep = get_average_wake_or_sleep(off_cases, True)\n",
    "    \n",
    "    return (average_wake, average_sleep)"
   ]
  },
  {
   "cell_type": "code",
   "execution_count": 172,
   "metadata": {},
   "outputs": [],
   "source": [
    "# Returns the most common left the house and got home from work (i.e. work schedule)\n",
    "# TODO: Ignore weekends for a more accurate result\n",
    "def get_work_schedule(data: pd.Series) -> Tuple[str, str]:\n",
    "    i = 0\n",
    "    res = []\n",
    "    on_cases = []\n",
    "    off_cases = []\n",
    "    resting_power = get_modes(data)[0]\n",
    "    while i < len(data):\n",
    "        try:\n",
    "            on_duration = 0\n",
    "            off_duration = 0\n",
    "            while (data.iloc[i] > resting_power): # lights are on\n",
    "                on_duration += 1\n",
    "                i+=1\n",
    "            \n",
    "            if on_duration > 120 and timeInRange(data.index[i][11:], '05:00:00', '10:00:00', False): # lights have been on for more than 100 minutes\n",
    "                off_cases.append((data.index[i], 'turning off', on_duration))\n",
    "\n",
    "            while (data.iloc[i] <= resting_power): # lights are off\n",
    "                off_duration += 1\n",
    "                i+=1\n",
    "                \n",
    "            if off_duration > 120 and timeInRange(data.index[i][11:], '14:00:00', '19:00:00', False): # lights have been off for more than 100 minutes\n",
    "                on_cases.append((data.index[i], 'turning on', off_duration))\n",
    "\n",
    "            i+=1\n",
    "        \n",
    "        except IndexError:\n",
    "            i+=1\n",
    "            \n",
    "    average_home = get_average_wake_or_sleep(on_cases)\n",
    "    average_leave = get_average_wake_or_sleep(off_cases, True)\n",
    "    \n",
    "    return (average_leave, average_home)"
   ]
  },
  {
   "cell_type": "code",
   "execution_count": 32,
   "metadata": {},
   "outputs": [
    {
     "data": {
      "text/plain": [
       "('05:41:00', '22:52:00')"
      ]
     },
     "execution_count": 32,
     "metadata": {},
     "output_type": "execute_result"
    }
   ],
   "source": [
    "circadian_rythm = get_circadian_rythm(lights)\n",
    "circadian_rythm"
   ]
  },
  {
   "cell_type": "code",
   "execution_count": 33,
   "metadata": {},
   "outputs": [],
   "source": [
    "aircon = df.loc[:, \"Aircon1\"]\n",
    "aircon = process_row(aircon)\n",
    "\n",
    "    "
   ]
  },
  {
   "cell_type": "code",
   "execution_count": 34,
   "metadata": {},
   "outputs": [
    {
     "name": "stdout",
     "output_type": "stream",
     "text": [
      "13\n",
      "[('2021-03-01 14:41:00', 1795, 203),\n",
      " ('2021-03-02 15:56:00', 2554, 157),\n",
      " ('2021-03-07 11:42:00', 1026, 273),\n",
      " ('2021-03-08 11:14:00', 1649, 226),\n",
      " ('2021-03-09 12:51:00', 1417, 338),\n",
      " ('2021-03-14 11:18:00', 2549, 431),\n",
      " ('2021-03-20 17:47:00', 1624, 133),\n",
      " ('2021-03-21 12:07:00', 892, 194),\n",
      " ('2021-03-23 05:59:00', 1008, 31),\n",
      " ('2021-03-24 16:30:00', 2466, 69),\n",
      " ('2021-03-26 16:35:00', 867, 110),\n",
      " ('2021-03-27 17:05:00', 2477, 108),\n",
      " ('2021-03-29 17:25:00', 1600, 65)]\n"
     ]
    }
   ],
   "source": [
    "aircon_peaks = get_peaks(aircon, 100, 10000, 10, 1000, 60)\n",
    "print(len(aircon_peaks))\n",
    "pp.pprint(aircon_peaks)"
   ]
  },
  {
   "cell_type": "code",
   "execution_count": 35,
   "metadata": {},
   "outputs": [],
   "source": [
    "# Returns the energy usage (Wh) of each peak\n",
    "def get_watt_hours(peaks: List[Tuple[str,int,int]], data: pd.Series) -> List[Tuple[str,int]]:\n",
    "    watt_hours = []\n",
    "    for peak in peaks:\n",
    "        watt_hour = 0\n",
    "        for _ in range(peak[2]):\n",
    "            watt_hour += data.loc[peak[0]]\n",
    "        watt_hours.append((peak[0], watt_hour))\n",
    "\n",
    "    return watt_hours"
   ]
  },
  {
   "cell_type": "code",
   "execution_count": 36,
   "metadata": {},
   "outputs": [
    {
     "data": {
      "text/plain": [
       "[('2021-03-01 14:41:00', 5075),\n",
       " ('2021-03-02 15:56:00', 1884),\n",
       " ('2021-03-07 11:42:00', 3003),\n",
       " ('2021-03-08 11:14:00', 3390),\n",
       " ('2021-03-09 12:51:00', 19266),\n",
       " ('2021-03-14 11:18:00', 4741),\n",
       " ('2021-03-20 17:47:00', 5453),\n",
       " ('2021-03-21 12:07:00', 2134),\n",
       " ('2021-03-23 05:59:00', 341),\n",
       " ('2021-03-24 16:30:00', 759),\n",
       " ('2021-03-26 16:35:00', 3300),\n",
       " ('2021-03-27 17:05:00', 1296),\n",
       " ('2021-03-29 17:25:00', 2535)]"
      ]
     },
     "execution_count": 36,
     "metadata": {},
     "output_type": "execute_result"
    }
   ],
   "source": [
    "watt_hours = get_watt_hours(aircon_peaks, aircon)\n",
    "watt_hours"
   ]
  },
  {
   "cell_type": "code",
   "execution_count": 37,
   "metadata": {},
   "outputs": [],
   "source": [
    "def get_daily_usage(arr: List[Tuple[str,int]]) -> pd.Series:\n",
    "    df = pd.DataFrame(arr).set_index(0)[1]\n",
    "    df.index.name = 'Time'\n",
    "    df.name = 'Processed Watt Hours'\n",
    "    df.index = pd.to_datetime(df.index)\n",
    "    df = df.resample('D').sum()\n",
    "    \n",
    "    start_date = int(df.index[0].strftime(\"%d\"))\n",
    "    i = start_date - 1\n",
    "    while (i > 0):\n",
    "        datetime = pd.Timestamp(int(df.index[0].strftime(\"%Y\")), int(df.index[0].strftime(\"%m\")), i, 0, 0, 0)\n",
    "        df.loc[datetime] = 0\n",
    "        df.sort_index(inplace=True) \n",
    "        i-=1\n",
    "    \n",
    "    end_date = int(df.index[-1].strftime(\"%d\"))\n",
    "    i = end_date + 1\n",
    "    from calendar import monthrange\n",
    "    days_in_month = monthrange(int(df.index[-1].strftime(\"%Y\")), int(df.index[-1].strftime(\"%m\")))[1]\n",
    "    while (i <= days_in_month):\n",
    "        datetime = pd.Timestamp(int(df.index[-1].strftime(\"%Y\")), int(df.index[-1].strftime(\"%m\")), i, 0, 0, 0)\n",
    "        df.loc[datetime] = 0\n",
    "        df.sort_index(inplace=True) \n",
    "        i+=1\n",
    "        \n",
    "    return df"
   ]
  },
  {
   "cell_type": "code",
   "execution_count": 38,
   "metadata": {},
   "outputs": [
    {
     "data": {
      "text/plain": [
       "Time\n",
       "2021-03-01     5075\n",
       "2021-03-02     1884\n",
       "2021-03-03        0\n",
       "2021-03-04        0\n",
       "2021-03-05        0\n",
       "2021-03-06        0\n",
       "2021-03-07     3003\n",
       "2021-03-08     3390\n",
       "2021-03-09    19266\n",
       "2021-03-10        0\n",
       "2021-03-11        0\n",
       "2021-03-12        0\n",
       "2021-03-13        0\n",
       "2021-03-14     4741\n",
       "2021-03-15        0\n",
       "2021-03-16        0\n",
       "2021-03-17        0\n",
       "2021-03-18        0\n",
       "2021-03-19        0\n",
       "2021-03-20     5453\n",
       "2021-03-21     2134\n",
       "2021-03-22        0\n",
       "2021-03-23      341\n",
       "2021-03-24      759\n",
       "2021-03-25        0\n",
       "2021-03-26     3300\n",
       "2021-03-27     1296\n",
       "2021-03-28        0\n",
       "2021-03-29     2535\n",
       "2021-03-30        0\n",
       "2021-03-31        0\n",
       "Freq: D, Name: Processed Watt Hours, dtype: int64"
      ]
     },
     "execution_count": 38,
     "metadata": {},
     "output_type": "execute_result"
    }
   ],
   "source": [
    "usage_series = get_daily_usage(watt_hours)\n",
    "usage_series"
   ]
  },
  {
   "cell_type": "code",
   "execution_count": 39,
   "metadata": {},
   "outputs": [],
   "source": [
    "def load_bom_data(filename: str, isHigh: bool) -> List[int]:\n",
    "    data = pd.read_csv(filename, sep=',', index_col=0, dtype=object)\n",
    "    data_col = data.iloc[:, 1] if isHigh else data.iloc[:, 0]\n",
    "    temps = [int(float(data_col.iloc[i])) for i in range(len(data_col))]\n",
    "    \n",
    "    return temps"
   ]
  },
  {
   "cell_type": "code",
   "execution_count": 40,
   "metadata": {},
   "outputs": [],
   "source": [
    "mar_2021 = load_bom_data(\"data/extra/bom-mar-2021.csv\", True)\n",
    "\n",
    "dec_2020 = load_bom_data(\"data/extra/bom-dec-2020.csv\", True)\n",
    "jan_2021 = load_bom_data(\"data/extra/bom-jan-2021.csv\", True)\n",
    "feb_2021 = load_bom_data(\"data/extra/bom-feb-2021.csv\", True)\n",
    "max_temps_summer = dec_2020 + jan_2021 + feb_2021\n",
    "\n",
    "jun_2020 = load_bom_data(\"data/extra/bom-jun-2020.csv\", False)\n",
    "jul_2020 = load_bom_data(\"data/extra/bom-jul-2020.csv\", False)\n",
    "aug_2020 = load_bom_data(\"data/extra/bom-aug-2020.csv\", False)\n",
    "min_temps_winter = jun_2020 + jul_2020 + aug_2020"
   ]
  },
  {
   "cell_type": "code",
   "execution_count": 41,
   "metadata": {},
   "outputs": [],
   "source": [
    "df = pd.read_csv(\"data/uq49_01-06-2020--31-08-2020.csv\", sep=';', index_col=0, dtype=object)\n",
    "df = df.sort_values(by='Time', ascending=True)\n",
    "df = df.iloc[1:,:]\n",
    "\n",
    "df1 = pd.read_csv(\"data/uq49_01-12-2020--28-02-2021.csv\", sep=';', index_col=0, dtype=object)\n",
    "df1 = df1.sort_values(by='Time', ascending=True)\n",
    "df1 = df1.iloc[1:,:]\n",
    "\n",
    "df2 = pd.read_csv(\"data/uq49_01-12-2020--31-12-2020.csv\", sep=';', index_col=0, dtype=object)\n",
    "df2 = df2.sort_values(by='Time', ascending=True)\n",
    "df2 = df2.iloc[1:,:]"
   ]
  },
  {
   "cell_type": "code",
   "execution_count": 42,
   "metadata": {},
   "outputs": [
    {
     "name": "stdout",
     "output_type": "stream",
     "text": [
      "6\n",
      "[('2020-12-03 10:55:00', 621, 2),\n",
      " ('2020-12-06 16:23:00', 1184, 3),\n",
      " ('2020-12-09 08:38:00', 621, 2),\n",
      " ('2020-12-11 07:30:00', 616, 2),\n",
      " ('2020-12-15 13:03:00', 789, 3),\n",
      " ('2020-12-22 11:17:00', 624, 2)]\n",
      "27\n",
      "[('2020-12-01 17:34:00', 1304, 12),\n",
      " ('2020-12-02 10:52:00', 1237, 7),\n",
      " ('2020-12-02 18:40:00', 2667, 38),\n",
      " ('2020-12-03 18:43:00', 2488, 32),\n",
      " ('2020-12-04 18:41:00', 1286, 14),\n",
      " ('2020-12-06 11:20:00', 1284, 4),\n",
      " ('2020-12-07 16:01:00', 970, 17),\n",
      " ('2020-12-07 18:27:00', 1307, 15),\n",
      " ('2020-12-08 07:23:00', 3295, 16),\n",
      " ('2020-12-08 19:45:00', 2625, 22),\n",
      " ('2020-12-09 10:41:00', 2921, 23),\n",
      " ('2020-12-09 19:25:00', 3407, 16),\n",
      " ('2020-12-10 13:25:00', 1323, 5),\n",
      " ('2020-12-10 18:12:00', 2268, 4),\n",
      " ('2020-12-10 23:01:00', 2506, 7),\n",
      " ('2020-12-11 14:45:00', 1148, 12),\n",
      " ('2020-12-11 21:17:00', 1318, 20),\n",
      " ('2020-12-12 16:17:00', 1296, 4),\n",
      " ('2020-12-14 15:44:00', 1333, 8),\n",
      " ('2020-12-14 19:09:00', 2658, 56),\n",
      " ('2020-12-15 09:32:00', 2511, 16),\n",
      " ('2020-12-15 21:32:00', 1335, 14),\n",
      " ('2020-12-17 21:17:00', 3127, 20),\n",
      " ('2020-12-19 13:46:00', 2864, 54),\n",
      " ('2020-12-19 18:02:00', 887, 9),\n",
      " ('2020-12-21 13:19:00', 1281, 9),\n",
      " ('2020-12-21 17:30:00', 2344, 52)]\n"
     ]
    }
   ],
   "source": [
    "powerpoints_uq49 = df2.loc[:, \"Powerpoints1\"]\n",
    "powerpoints_uq49 = process_row(powerpoints_uq49)\n",
    "\n",
    "hob_uq49 = df2.loc[:, \"Hob\"]\n",
    "hob_uq49 = process_row(hob_uq49)\n",
    "\n",
    "microwave_peaks_uq49 = get_peaks(powerpoints_uq49, 600, 1200, 0, 10, 0)\n",
    "print(len(microwave_peaks_uq49))\n",
    "pp.pprint(microwave_peaks_uq49)\n",
    "\n",
    "stove_peaks_uq49 = get_peaks(hob_uq49, 500, 5000, 0, 120, 60)\n",
    "print(len(stove_peaks_uq49))\n",
    "pp.pprint(stove_peaks_uq49)"
   ]
  },
  {
   "cell_type": "code",
   "execution_count": 43,
   "metadata": {},
   "outputs": [],
   "source": [
    "aircon_winter = df.loc[:, \"Aircon1\"]\n",
    "aircon_winter = process_row(aircon_winter)\n",
    "\n",
    "aircon_summer = df1.loc[:, \"Aircon1\"]\n",
    "aircon_summer = process_row(aircon_summer)\n"
   ]
  },
  {
   "cell_type": "code",
   "execution_count": 44,
   "metadata": {},
   "outputs": [
    {
     "data": {
      "text/plain": [
       "Time\n",
       "2020-06-01 00:01:00    1\n",
       "2020-06-01 00:02:00    1\n",
       "2020-06-01 00:03:00    2\n",
       "2020-06-01 00:04:00    1\n",
       "2020-06-01 00:05:00    1\n",
       "                      ..\n",
       "2020-08-31 23:55:00    1\n",
       "2020-08-31 23:56:00    1\n",
       "2020-08-31 23:57:00    1\n",
       "2020-08-31 23:58:00    1\n",
       "2020-08-31 23:59:00    0\n",
       "Length: 132479, dtype: int64"
      ]
     },
     "execution_count": 44,
     "metadata": {},
     "output_type": "execute_result"
    }
   ],
   "source": [
    "aircon_winter"
   ]
  },
  {
   "cell_type": "code",
   "execution_count": 45,
   "metadata": {},
   "outputs": [
    {
     "data": {
      "text/plain": [
       "Time\n",
       "2020-12-01 00:01:00    1\n",
       "2020-12-01 00:02:00    1\n",
       "2020-12-01 00:03:00    1\n",
       "2020-12-01 00:04:00    1\n",
       "2020-12-01 00:05:00    1\n",
       "                      ..\n",
       "2021-02-28 23:55:00    0\n",
       "2021-02-28 23:56:00    0\n",
       "2021-02-28 23:57:00    0\n",
       "2021-02-28 23:58:00    0\n",
       "2021-02-28 23:59:00    0\n",
       "Length: 129599, dtype: int64"
      ]
     },
     "execution_count": 45,
     "metadata": {},
     "output_type": "execute_result"
    }
   ],
   "source": [
    "aircon_summer"
   ]
  },
  {
   "cell_type": "code",
   "execution_count": 46,
   "metadata": {},
   "outputs": [
    {
     "data": {
      "text/plain": [
       "[('2020-06-02 17:40:00', 1910, 21),\n",
       " ('2020-06-03 17:16:00', 1931, 86),\n",
       " ('2020-06-04 04:59:00', 1901, 46),\n",
       " ('2020-06-04 14:22:00', 1947, 24),\n",
       " ('2020-06-05 17:06:00', 1891, 17),\n",
       " ('2020-06-06 21:34:00', 1896, 43),\n",
       " ('2020-06-07 17:59:00', 1888, 15),\n",
       " ('2020-06-08 08:07:00', 1921, 26),\n",
       " ('2020-06-09 16:44:00', 1950, 29),\n",
       " ('2020-06-12 04:29:00', 1910, 20),\n",
       " ('2020-06-19 20:33:00', 1911, 17),\n",
       " ('2020-06-20 08:15:00', 1934, 30),\n",
       " ('2020-06-20 18:18:00', 1933, 43),\n",
       " ('2020-06-21 08:44:00', 1932, 18),\n",
       " ('2020-06-21 17:22:00', 1941, 68),\n",
       " ('2020-06-22 08:23:00', 1943, 11),\n",
       " ('2020-06-22 21:22:00', 1937, 38),\n",
       " ('2020-06-23 08:03:00', 1945, 37),\n",
       " ('2020-06-23 11:52:00', 107, 2),\n",
       " ('2020-06-23 14:18:00', 1415, 4),\n",
       " ('2020-06-23 18:01:00', 1906, 15),\n",
       " ('2020-06-24 05:50:00', 1907, 93),\n",
       " ('2020-06-24 08:53:00', 1916, 9),\n",
       " ('2020-06-25 08:43:00', 1948, 42),\n",
       " ('2020-06-26 08:32:00', 1966, 54),\n",
       " ('2020-06-26 17:44:00', 1931, 21),\n",
       " ('2020-06-28 17:13:00', 1925, 96),\n",
       " ('2020-06-28 21:15:00', 1948, 39),\n",
       " ('2020-06-29 07:30:00', 1913, 41),\n",
       " ('2020-06-29 17:49:00', 1906, 43),\n",
       " ('2020-06-30 08:26:00', 1959, 68),\n",
       " ('2020-07-01 18:02:00', 1919, 188),\n",
       " ('2020-07-02 04:01:00', 1891, 29),\n",
       " ('2020-07-02 17:28:00', 1934, 31),\n",
       " ('2020-07-03 07:23:00', 1893, 59),\n",
       " ('2020-07-04 19:18:00', 1880, 51),\n",
       " ('2020-07-05 05:17:00', 1874, 59),\n",
       " ('2020-07-14 07:06:00', 1926, 31),\n",
       " ('2020-07-14 10:31:00', 1948, 52),\n",
       " ('2020-07-14 12:28:00', 1968, 77),\n",
       " ('2020-07-14 17:26:00', 1891, 33),\n",
       " ('2020-07-14 19:43:00', 1921, 36),\n",
       " ('2020-07-15 07:13:00', 1987, 58),\n",
       " ('2020-07-15 18:26:00', 1944, 11),\n",
       " ('2020-07-16 07:25:00', 1903, 49),\n",
       " ('2020-07-16 16:40:00', 1934, 65),\n",
       " ('2020-07-17 17:48:00', 1940, 28),\n",
       " ('2020-07-17 22:12:00', 1881, 29),\n",
       " ('2020-07-18 07:39:00', 1906, 8),\n",
       " ('2020-07-19 08:45:00', 1854, 10),\n",
       " ('2020-07-20 05:11:00', 1899, 54),\n",
       " ('2020-07-20 18:45:00', 1936, 18),\n",
       " ('2020-07-22 17:17:00', 1905, 24),\n",
       " ('2020-07-22 19:18:00', 1937, 23),\n",
       " ('2020-07-22 21:37:00', 1924, 9),\n",
       " ('2020-07-23 17:46:00', 1958, 71),\n",
       " ('2020-07-24 18:27:00', 1927, 44),\n",
       " ('2020-07-24 22:29:00', 1440, 4),\n",
       " ('2020-07-26 20:28:00', 1922, 22),\n",
       " ('2020-07-27 04:16:00', 1902, 37),\n",
       " ('2020-07-27 15:31:00', 1926, 19),\n",
       " ('2020-07-27 18:10:00', 1910, 75),\n",
       " ('2020-07-28 18:59:00', 1392, 4),\n",
       " ('2020-07-30 18:36:00', 1947, 18),\n",
       " ('2020-07-31 17:42:00', 1954, 94),\n",
       " ('2020-08-02 09:21:00', 1962, 18),\n",
       " ('2020-08-02 19:48:00', 1886, 41),\n",
       " ('2020-08-03 05:34:00', 1944, 11),\n",
       " ('2020-08-03 17:23:00', 1933, 57),\n",
       " ('2020-08-04 06:11:00', 1918, 9),\n",
       " ('2020-08-05 08:25:00', 1966, 9),\n",
       " ('2020-08-06 08:26:00', 1935, 39),\n",
       " ('2020-08-06 17:55:00', 1910, 35),\n",
       " ('2020-08-06 20:47:00', 1931, 19),\n",
       " ('2020-08-07 13:54:00', 1974, 16),\n",
       " ('2020-08-07 18:00:00', 1910, 46),\n",
       " ('2020-08-09 06:02:00', 1876, 23),\n",
       " ('2020-08-09 18:56:00', 1904, 129),\n",
       " ('2020-08-10 07:51:00', 1884, 14),\n",
       " ('2020-08-10 10:53:00', 1931, 63),\n",
       " ('2020-08-10 15:03:00', 1909, 23),\n",
       " ('2020-08-10 20:07:00', 1897, 21),\n",
       " ('2020-08-11 17:55:00', 1950, 19),\n",
       " ('2020-08-12 05:20:00', 1952, 23),\n",
       " ('2020-08-12 17:28:00', 1779, 7),\n",
       " ('2020-08-12 19:58:00', 1917, 15),\n",
       " ('2020-08-13 18:06:00', 1928, 22),\n",
       " ('2020-08-13 21:00:00', 1909, 20),\n",
       " ('2020-08-15 22:57:00', 1929, 7),\n",
       " ('2020-08-17 06:31:00', 1879, 13),\n",
       " ('2020-08-17 19:57:00', 1574, 6),\n",
       " ('2020-08-17 21:18:00', 1930, 31),\n",
       " ('2020-08-18 18:39:00', 1940, 18),\n",
       " ('2020-08-19 05:51:00', 1895, 11),\n",
       " ('2020-08-20 18:23:00', 1931, 7),\n",
       " ('2020-08-20 19:34:00', 1907, 16),\n",
       " ('2020-08-22 19:37:00', 1925, 29),\n",
       " ('2020-08-22 21:56:00', 1887, 14),\n",
       " ('2020-08-23 00:20:00', 1796, 6),\n",
       " ('2020-08-23 16:02:00', 1930, 17),\n",
       " ('2020-08-23 18:36:00', 1915, 41),\n",
       " ('2020-08-24 20:00:00', 1883, 31),\n",
       " ('2020-08-25 19:34:00', 1881, 41),\n",
       " ('2020-08-26 18:02:00', 1925, 21),\n",
       " ('2020-08-27 21:06:00', 1930, 35),\n",
       " ('2020-08-29 21:07:00', 1918, 58),\n",
       " ('2020-08-30 18:43:00', 1883, 64),\n",
       " ('2020-08-31 06:53:00', 1956, 18),\n",
       " ('2020-08-31 20:53:00', 1900, 13)]"
      ]
     },
     "execution_count": 46,
     "metadata": {},
     "output_type": "execute_result"
    }
   ],
   "source": [
    "aircon_peaks_winter = get_peaks(aircon_winter, 100, 10000, 0, 1000, 60)\n",
    "aircon_peaks_winter"
   ]
  },
  {
   "cell_type": "code",
   "execution_count": 47,
   "metadata": {},
   "outputs": [
    {
     "data": {
      "text/plain": [
       "[('2020-12-01 12:26:00', 1698, 189),\n",
       " ('2020-12-01 19:50:00', 1512, 49),\n",
       " ('2020-12-01 22:21:00', 1503, 45),\n",
       " ('2020-12-02 16:35:00', 1614, 139),\n",
       " ('2020-12-03 10:50:00', 1638, 66),\n",
       " ('2020-12-04 09:56:00', 1656, 35),\n",
       " ('2020-12-04 12:59:00', 1731, 86),\n",
       " ('2020-12-04 16:02:00', 1652, 35),\n",
       " ('2020-12-04 18:37:00', 1515, 24),\n",
       " ('2020-12-06 09:17:00', 1615, 23),\n",
       " ('2020-12-06 11:08:00', 1748, 103),\n",
       " ('2020-12-06 14:12:00', 1687, 130),\n",
       " ('2020-12-06 19:19:00', 1639, 69),\n",
       " ('2020-12-06 21:46:00', 1556, 27),\n",
       " ('2020-12-08 14:30:00', 1639, 105),\n",
       " ('2020-12-15 13:51:00', 1568, 66),\n",
       " ('2020-12-15 21:34:00', 1446, 44),\n",
       " ('2020-12-16 20:59:00', 1465, 40),\n",
       " ('2020-12-17 19:01:00', 1529, 24),\n",
       " ('2020-12-17 21:15:00', 1504, 50),\n",
       " ('2020-12-18 14:14:00', 1650, 92),\n",
       " ('2020-12-19 14:55:00', 1658, 184),\n",
       " ('2020-12-19 20:35:00', 1490, 46),\n",
       " ('2020-12-20 09:33:00', 1646, 85),\n",
       " ('2020-12-20 17:02:00', 1578, 110),\n",
       " ('2020-12-21 13:08:00', 1652, 136),\n",
       " ('2020-12-21 21:08:00', 1500, 108),\n",
       " ('2021-01-17 19:18:00', 1492, 57),\n",
       " ('2021-01-25 20:05:00', 1459, 27),\n",
       " ('2021-01-29 11:53:00', 1657, 71),\n",
       " ('2021-01-30 13:23:00', 1632, 76),\n",
       " ('2021-01-30 21:54:00', 1492, 61),\n",
       " ('2021-02-05 14:33:00', 1067, 3),\n",
       " ('2021-02-05 15:41:00', 1593, 38),\n",
       " ('2021-02-06 15:06:00', 1647, 67),\n",
       " ('2021-02-07 10:21:00', 1632, 43),\n",
       " ('2021-02-07 13:22:00', 1829, 239),\n",
       " ('2021-02-07 22:53:00', 1530, 56),\n",
       " ('2021-02-13 13:52:00', 1632, 35),\n",
       " ('2021-02-13 17:38:00', 1538, 30),\n",
       " ('2021-02-13 23:20:00', 1476, 28),\n",
       " ('2021-02-20 21:34:00', 1445, 60),\n",
       " ('2021-02-21 19:30:00', 1517, 55),\n",
       " ('2021-02-22 14:44:00', 1708, 245),\n",
       " ('2021-02-23 12:07:00', 1712, 107),\n",
       " ('2021-02-23 16:58:00', 1630, 72),\n",
       " ('2021-02-24 09:54:00', 1575, 37),\n",
       " ('2021-02-24 17:43:00', 1532, 53),\n",
       " ('2021-02-26 19:53:00', 1519, 136),\n",
       " ('2021-02-27 13:36:00', 1637, 40),\n",
       " ('2021-02-27 18:44:00', 1497, 17),\n",
       " ('2021-02-27 21:20:00', 1506, 44),\n",
       " ('2021-02-28 11:47:00', 1623, 104)]"
      ]
     },
     "execution_count": 47,
     "metadata": {},
     "output_type": "execute_result"
    }
   ],
   "source": [
    "aircon_peaks_summer = get_peaks(aircon_summer, 100, 10000, 0, 1000, 60)\n",
    "aircon_peaks_summer"
   ]
  },
  {
   "cell_type": "code",
   "execution_count": 48,
   "metadata": {},
   "outputs": [
    {
     "data": {
      "text/plain": [
       "[('2020-06-02 17:40:00', 21),\n",
       " ('2020-06-03 17:16:00', 86),\n",
       " ('2020-06-04 04:59:00', 276),\n",
       " ('2020-06-04 14:22:00', 24),\n",
       " ('2020-06-05 17:06:00', 17),\n",
       " ('2020-06-06 21:34:00', 43),\n",
       " ('2020-06-07 17:59:00', 15),\n",
       " ('2020-06-08 08:07:00', 156),\n",
       " ('2020-06-09 16:44:00', 58),\n",
       " ('2020-06-12 04:29:00', 20),\n",
       " ('2020-06-19 20:33:00', 17),\n",
       " ('2020-06-20 08:15:00', 180),\n",
       " ('2020-06-20 18:18:00', 258),\n",
       " ('2020-06-21 08:44:00', 108),\n",
       " ('2020-06-21 17:22:00', 68),\n",
       " ('2020-06-22 08:23:00', 77),\n",
       " ('2020-06-22 21:22:00', 190),\n",
       " ('2020-06-23 08:03:00', 0),\n",
       " ('2020-06-23 11:52:00', 10),\n",
       " ('2020-06-23 14:18:00', 16),\n",
       " ('2020-06-23 18:01:00', 120),\n",
       " ('2020-06-24 05:50:00', 558),\n",
       " ('2020-06-24 08:53:00', 45),\n",
       " ('2020-06-25 08:43:00', 210),\n",
       " ('2020-06-26 08:32:00', 270),\n",
       " ('2020-06-26 17:44:00', 21),\n",
       " ('2020-06-28 17:13:00', 96),\n",
       " ('2020-06-28 21:15:00', 39),\n",
       " ('2020-06-29 07:30:00', 205),\n",
       " ('2020-06-29 17:49:00', 43),\n",
       " ('2020-06-30 08:26:00', 340),\n",
       " ('2020-07-01 18:02:00', 188),\n",
       " ('2020-07-02 04:01:00', 174),\n",
       " ('2020-07-02 17:28:00', 31),\n",
       " ('2020-07-03 07:23:00', 354),\n",
       " ('2020-07-04 19:18:00', 255),\n",
       " ('2020-07-05 05:17:00', 295),\n",
       " ('2020-07-14 07:06:00', 279),\n",
       " ('2020-07-14 10:31:00', 312),\n",
       " ('2020-07-14 12:28:00', 462),\n",
       " ('2020-07-14 17:26:00', 165),\n",
       " ('2020-07-14 19:43:00', 180),\n",
       " ('2020-07-15 07:13:00', 290),\n",
       " ('2020-07-15 18:26:00', 11),\n",
       " ('2020-07-16 07:25:00', 0),\n",
       " ('2020-07-16 16:40:00', 130),\n",
       " ('2020-07-17 17:48:00', 28),\n",
       " ('2020-07-17 22:12:00', 493),\n",
       " ('2020-07-18 07:39:00', 40),\n",
       " ('2020-07-19 08:45:00', 360),\n",
       " ('2020-07-20 05:11:00', 162),\n",
       " ('2020-07-20 18:45:00', 72),\n",
       " ('2020-07-22 17:17:00', 0),\n",
       " ('2020-07-22 19:18:00', 92),\n",
       " ('2020-07-22 21:37:00', 36),\n",
       " ('2020-07-23 17:46:00', 0),\n",
       " ('2020-07-24 18:27:00', 0),\n",
       " ('2020-07-24 22:29:00', 16),\n",
       " ('2020-07-26 20:28:00', 88),\n",
       " ('2020-07-27 04:16:00', 185),\n",
       " ('2020-07-27 15:31:00', 0),\n",
       " ('2020-07-27 18:10:00', 0),\n",
       " ('2020-07-28 18:59:00', 24),\n",
       " ('2020-07-30 18:36:00', 18),\n",
       " ('2020-07-31 17:42:00', 94),\n",
       " ('2020-08-02 09:21:00', 0),\n",
       " ('2020-08-02 19:48:00', 123),\n",
       " ('2020-08-03 05:34:00', 66),\n",
       " ('2020-08-03 17:23:00', 171),\n",
       " ('2020-08-04 06:11:00', 45),\n",
       " ('2020-08-05 08:25:00', 0),\n",
       " ('2020-08-06 08:26:00', 234),\n",
       " ('2020-08-06 17:55:00', 35),\n",
       " ('2020-08-06 20:47:00', 19),\n",
       " ('2020-08-07 13:54:00', 48),\n",
       " ('2020-08-07 18:00:00', 46),\n",
       " ('2020-08-09 06:02:00', 115),\n",
       " ('2020-08-09 18:56:00', 129),\n",
       " ('2020-08-10 07:51:00', 84),\n",
       " ('2020-08-10 10:53:00', 630),\n",
       " ('2020-08-10 15:03:00', 23),\n",
       " ('2020-08-10 20:07:00', 105),\n",
       " ('2020-08-11 17:55:00', 0),\n",
       " ('2020-08-12 05:20:00', 115),\n",
       " ('2020-08-12 17:28:00', 196),\n",
       " ('2020-08-12 19:58:00', 15),\n",
       " ('2020-08-13 18:06:00', 22),\n",
       " ('2020-08-13 21:00:00', 60),\n",
       " ('2020-08-15 22:57:00', 0),\n",
       " ('2020-08-17 06:31:00', 78),\n",
       " ('2020-08-17 19:57:00', 6),\n",
       " ('2020-08-17 21:18:00', 31),\n",
       " ('2020-08-18 18:39:00', 0),\n",
       " ('2020-08-19 05:51:00', 55),\n",
       " ('2020-08-20 18:23:00', 7),\n",
       " ('2020-08-20 19:34:00', 16),\n",
       " ('2020-08-22 19:37:00', 0),\n",
       " ('2020-08-22 21:56:00', 42),\n",
       " ('2020-08-23 00:20:00', 60),\n",
       " ('2020-08-23 16:02:00', 17),\n",
       " ('2020-08-23 18:36:00', 41),\n",
       " ('2020-08-24 20:00:00', 372),\n",
       " ('2020-08-25 19:34:00', 41),\n",
       " ('2020-08-26 18:02:00', 21),\n",
       " ('2020-08-27 21:06:00', 35),\n",
       " ('2020-08-29 21:07:00', 58),\n",
       " ('2020-08-30 18:43:00', 192),\n",
       " ('2020-08-31 06:53:00', 90),\n",
       " ('2020-08-31 20:53:00', 39)]"
      ]
     },
     "execution_count": 48,
     "metadata": {},
     "output_type": "execute_result"
    }
   ],
   "source": [
    "watt_hours_winter = get_watt_hours(aircon_peaks_winter, aircon_winter)\n",
    "watt_hours_winter"
   ]
  },
  {
   "cell_type": "code",
   "execution_count": 49,
   "metadata": {},
   "outputs": [],
   "source": [
    "watt_hours_summer = get_watt_hours(aircon_peaks_summer, aircon_summer)"
   ]
  },
  {
   "cell_type": "code",
   "execution_count": 50,
   "metadata": {},
   "outputs": [
    {
     "data": {
      "text/plain": [
       "Time\n",
       "2020-06-01       0\n",
       "2020-06-02      21\n",
       "2020-06-03      86\n",
       "2020-06-04     300\n",
       "2020-06-05      17\n",
       "2020-06-06      43\n",
       "2020-06-07      15\n",
       "2020-06-08     156\n",
       "2020-06-09      58\n",
       "2020-06-10       0\n",
       "2020-06-11       0\n",
       "2020-06-12      20\n",
       "2020-06-13       0\n",
       "2020-06-14       0\n",
       "2020-06-15       0\n",
       "2020-06-16       0\n",
       "2020-06-17       0\n",
       "2020-06-18       0\n",
       "2020-06-19      17\n",
       "2020-06-20     438\n",
       "2020-06-21     176\n",
       "2020-06-22     267\n",
       "2020-06-23     146\n",
       "2020-06-24     603\n",
       "2020-06-25     210\n",
       "2020-06-26     291\n",
       "2020-06-27       0\n",
       "2020-06-28     135\n",
       "2020-06-29     248\n",
       "2020-06-30     340\n",
       "2020-07-01     188\n",
       "2020-07-02     205\n",
       "2020-07-03     354\n",
       "2020-07-04     255\n",
       "2020-07-05     295\n",
       "2020-07-06       0\n",
       "2020-07-07       0\n",
       "2020-07-08       0\n",
       "2020-07-09       0\n",
       "2020-07-10       0\n",
       "2020-07-11       0\n",
       "2020-07-12       0\n",
       "2020-07-13       0\n",
       "2020-07-14    1398\n",
       "2020-07-15     301\n",
       "2020-07-16     130\n",
       "2020-07-17     521\n",
       "2020-07-18      40\n",
       "2020-07-19     360\n",
       "2020-07-20     234\n",
       "2020-07-21       0\n",
       "2020-07-22     128\n",
       "2020-07-23       0\n",
       "2020-07-24      16\n",
       "2020-07-25       0\n",
       "2020-07-26      88\n",
       "2020-07-27     185\n",
       "2020-07-28      24\n",
       "2020-07-29       0\n",
       "2020-07-30      18\n",
       "2020-07-31      94\n",
       "2020-08-01       0\n",
       "2020-08-02     123\n",
       "2020-08-03     237\n",
       "2020-08-04      45\n",
       "2020-08-05       0\n",
       "2020-08-06     288\n",
       "2020-08-07      94\n",
       "2020-08-08       0\n",
       "2020-08-09     244\n",
       "2020-08-10     842\n",
       "2020-08-11       0\n",
       "2020-08-12     326\n",
       "2020-08-13      82\n",
       "2020-08-14       0\n",
       "2020-08-15       0\n",
       "2020-08-16       0\n",
       "2020-08-17     115\n",
       "2020-08-18       0\n",
       "2020-08-19      55\n",
       "2020-08-20      23\n",
       "2020-08-21       0\n",
       "2020-08-22      42\n",
       "2020-08-23     118\n",
       "2020-08-24     372\n",
       "2020-08-25      41\n",
       "2020-08-26      21\n",
       "2020-08-27      35\n",
       "2020-08-28       0\n",
       "2020-08-29      58\n",
       "2020-08-30     192\n",
       "2020-08-31     129\n",
       "Name: Processed Watt Hours, dtype: int64"
      ]
     },
     "execution_count": 50,
     "metadata": {},
     "output_type": "execute_result"
    }
   ],
   "source": [
    "usage_series_winter = get_daily_usage(watt_hours_winter)\n",
    "usage_series_winter"
   ]
  },
  {
   "cell_type": "code",
   "execution_count": 51,
   "metadata": {},
   "outputs": [
    {
     "data": {
      "text/plain": [
       "Time\n",
       "2020-12-01     328\n",
       "2020-12-02     139\n",
       "2020-12-03      66\n",
       "2020-12-04     180\n",
       "2020-12-05       0\n",
       "2020-12-06     352\n",
       "2020-12-07       0\n",
       "2020-12-08       0\n",
       "2020-12-09       0\n",
       "2020-12-10       0\n",
       "2020-12-11       0\n",
       "2020-12-12       0\n",
       "2020-12-13       0\n",
       "2020-12-14       0\n",
       "2020-12-15       0\n",
       "2020-12-16       0\n",
       "2020-12-17      74\n",
       "2020-12-18       0\n",
       "2020-12-19      46\n",
       "2020-12-20     195\n",
       "2020-12-21     108\n",
       "2020-12-22       0\n",
       "2020-12-23       0\n",
       "2020-12-24       0\n",
       "2020-12-25       0\n",
       "2020-12-26       0\n",
       "2020-12-27       0\n",
       "2020-12-28       0\n",
       "2020-12-29       0\n",
       "2020-12-30       0\n",
       "2020-12-31       0\n",
       "2021-01-01       0\n",
       "2021-01-02       0\n",
       "2021-01-03       0\n",
       "2021-01-04       0\n",
       "2021-01-05       0\n",
       "2021-01-06       0\n",
       "2021-01-07       0\n",
       "2021-01-08       0\n",
       "2021-01-09       0\n",
       "2021-01-10       0\n",
       "2021-01-11       0\n",
       "2021-01-12       0\n",
       "2021-01-13       0\n",
       "2021-01-14       0\n",
       "2021-01-15       0\n",
       "2021-01-16       0\n",
       "2021-01-17     342\n",
       "2021-01-18       0\n",
       "2021-01-19       0\n",
       "2021-01-20       0\n",
       "2021-01-21       0\n",
       "2021-01-22       0\n",
       "2021-01-23       0\n",
       "2021-01-24       0\n",
       "2021-01-25       0\n",
       "2021-01-26       0\n",
       "2021-01-27       0\n",
       "2021-01-28       0\n",
       "2021-01-29       0\n",
       "2021-01-30      61\n",
       "2021-01-31       0\n",
       "2021-02-01       0\n",
       "2021-02-02       0\n",
       "2021-02-03       0\n",
       "2021-02-04       0\n",
       "2021-02-05      38\n",
       "2021-02-06       0\n",
       "2021-02-07     450\n",
       "2021-02-08       0\n",
       "2021-02-09       0\n",
       "2021-02-10       0\n",
       "2021-02-11       0\n",
       "2021-02-12       0\n",
       "2021-02-13     410\n",
       "2021-02-14       0\n",
       "2021-02-15       0\n",
       "2021-02-16       0\n",
       "2021-02-17       0\n",
       "2021-02-18       0\n",
       "2021-02-19       0\n",
       "2021-02-20       0\n",
       "2021-02-21      55\n",
       "2021-02-22     245\n",
       "2021-02-23      72\n",
       "2021-02-24      53\n",
       "2021-02-25       0\n",
       "2021-02-26     680\n",
       "2021-02-27     101\n",
       "2021-02-28    3328\n",
       "Freq: D, Name: Processed Watt Hours, dtype: int64"
      ]
     },
     "execution_count": 51,
     "metadata": {},
     "output_type": "execute_result"
    }
   ],
   "source": [
    "usage_series_summer = get_daily_usage(watt_hours_summer)\n",
    "usage_series_summer"
   ]
  },
  {
   "cell_type": "code",
   "execution_count": 52,
   "metadata": {},
   "outputs": [],
   "source": [
    "# TODO: Consider using another metric for heat sensitivity\n",
    "def plot_aircon_trend(usage_series: pd.Series, temps: List[int], s_type: str):\n",
    "    usage = usage_series.tolist()\n",
    "    x_ticks = [i for i in range(len(usage)) if i % 4 == 0]\n",
    "    x_ticklabels = [usage_series.index[i].strftime(\"%Y/%m/%d\") for i in x_ticks]\n",
    "\n",
    "    n=len(usage)\n",
    "    position = np.arange(n)\n",
    "    offset = 0.15\n",
    "    width = 0.3\n",
    "\n",
    "    fig = plt.figure(figsize=(12,6))\n",
    "    ax = fig.add_subplot(111)\n",
    "    ax2 = ax.twinx()\n",
    "\n",
    "    ax.bar(position - offset, temps, width, label = s_type + \" Temperature\", color='orange')\n",
    "    ax2.bar(position + offset, usage, width, label = 'Aircon Usage', color='blue')\n",
    "    \n",
    "    lines, labels = ax.get_legend_handles_labels()\n",
    "    lines2, labels2 = ax2.get_legend_handles_labels()\n",
    "    ax2.legend(lines + lines2, labels + labels2, loc=0)\n",
    "    \n",
    "    min_temp = min(temps)\n",
    "    max_temp = max(temps)\n",
    "\n",
    "    ax2.set_ylabel(\"Power W\")\n",
    "    ax.set_ylabel(\"Degree's C\")\n",
    "    ax.set_ylim([min_temp-2,max_temp+2])\n",
    "\n",
    "    ax.set_xlabel(\"Date\")\n",
    "    ax.set_xticks(x_ticks)\n",
    "    ax.set_xticklabels(x_ticklabels, rotation=60)\n",
    "    \n",
    "    plt.title(s_type + \" Temperature vs. Aircon Usage\")\n",
    "    plt.show()"
   ]
  },
  {
   "cell_type": "code",
   "execution_count": 53,
   "metadata": {},
   "outputs": [
    {
     "data": {
      "image/png": "[encoded data removed]",
      "text/plain": [
       "<Figure size 864x432 with 2 Axes>"
      ]
     },
     "metadata": {
      "needs_background": "light"
     },
     "output_type": "display_data"
    }
   ],
   "source": [
    "plot_aircon_trend(usage_series, mar_2021, s_type=\"Max\")"
   ]
  },
  {
   "cell_type": "code",
   "execution_count": 54,
   "metadata": {},
   "outputs": [
    {
     "data": {
      "image/png": "[encoded data removed]",
      "text/plain": [
       "<Figure size 864x432 with 2 Axes>"
      ]
     },
     "metadata": {
      "needs_background": "light"
     },
     "output_type": "display_data"
    }
   ],
   "source": [
    "plot_aircon_trend(usage_series_winter, min_temps_winter, s_type=\"Min\")"
   ]
  },
  {
   "cell_type": "code",
   "execution_count": 55,
   "metadata": {},
   "outputs": [
    {
     "data": {
      "image/png": "[encoded data removed]",
      "text/plain": [
       "<Figure size 864x432 with 2 Axes>"
      ]
     },
     "metadata": {
      "needs_background": "light"
     },
     "output_type": "display_data"
    }
   ],
   "source": [
    "plot_aircon_trend(usage_series_summer, max_temps_summer, s_type=\"Max\")"
   ]
  },
  {
   "cell_type": "code",
   "execution_count": 56,
   "metadata": {},
   "outputs": [],
   "source": [
    "def get_probabilities(temps: List[int], usage_series: pd.Series):\n",
    "    usage = usage_series.tolist()\n",
    "    \n",
    "    td = pd.DataFrame(temps)\n",
    "    td = [int(float(td.iloc[i])) for i in range(len(td))]\n",
    "    td = pd.Series(td)\n",
    "\n",
    "    n = pd.DataFrame()\n",
    "    n['temps'] = td\n",
    "    n['vals'] = usage\n",
    "    \n",
    "    num_days = len(temps)\n",
    "    \n",
    "    probs = []\n",
    "    min_temp = min(temps)\n",
    "    max_temp = max(temps)\n",
    "    \n",
    "    # Bayes' Theorem\n",
    "    for i in range(min_temp, max_temp+1):\n",
    "        p_a = usage_series.gt(0).sum() / num_days\n",
    "        p_b = td.eq(i).sum() / num_days\n",
    "        p_a_or_b = (n['vals'].gt(0) | n['temps'].eq(i)).sum() / num_days\n",
    "        p_a_and_b = p_a + p_b - p_a_or_b\n",
    "        if (p_b == 0):\n",
    "            probs.append(np.nan)\n",
    "            continue\n",
    "        p_a_given_b = p_a_and_b / p_b\n",
    "        probs.append(round(p_a_given_b,2))\n",
    "    \n",
    "    return probs\n",
    "        "
   ]
  },
  {
   "cell_type": "code",
   "execution_count": 57,
   "metadata": {},
   "outputs": [
    {
     "data": {
      "text/plain": [
       "[0.0, 0.0, nan, 0.0, 0.0, 0.33, 0.43, 0.75, 0.63, 0.0, nan, 1.0]"
      ]
     },
     "execution_count": 57,
     "metadata": {},
     "output_type": "execute_result"
    }
   ],
   "source": [
    "get_probabilities(mar_2021, usage_series)"
   ]
  },
  {
   "cell_type": "code",
   "execution_count": null,
   "metadata": {},
   "outputs": [],
   "source": []
  },
  {
   "cell_type": "code",
   "execution_count": 58,
   "metadata": {},
   "outputs": [],
   "source": [
    "def plot_probability_curve(temps: List[int], usage_series: pd.Series):\n",
    "        \n",
    "    min_temp = min(temps)\n",
    "    max_temp = max(temps)\n",
    "        \n",
    "    fig = plt.figure(figsize=(8,6))\n",
    "        \n",
    "    probs = get_probabilities(temps, usage_series)\n",
    "    interpolated = pd.Series(probs).interpolate().values.ravel().tolist()\n",
    "    \n",
    "    y = probs\n",
    "    y = np.array(y)\n",
    "    x = np.arange(min_temp, max_temp+1, 1)\n",
    "        \n",
    "    plt.plot(x, interpolated)\n",
    "    \n",
    "    ax = plt.gca()\n",
    "    ax.set_ylim([0.0,1.0])\n",
    "    \n",
    "    plt.xlabel(\"Temperature (C)\")\n",
    "    plt.ylabel(\"Probability of Aircon Use\")\n",
    "    plt.title(\"Probability Curve of Aircon Usage vs Temperature\")\n",
    "    plt.show()\n",
    "    \n",
    "    return x, interpolated"
   ]
  },
  {
   "cell_type": "code",
   "execution_count": 59,
   "metadata": {},
   "outputs": [
    {
     "data": {
      "image/png": "[encoded data removed]",
      "text/plain": [
       "<Figure size 576x432 with 1 Axes>"
      ]
     },
     "metadata": {
      "needs_background": "light"
     },
     "output_type": "display_data"
    },
    {
     "data": {
      "text/plain": [
       "(array([22, 23, 24, 25, 26, 27, 28, 29, 30, 31, 32, 33]),\n",
       " [0.0, 0.0, 0.0, 0.0, 0.0, 0.33, 0.43, 0.75, 0.63, 0.0, 0.5, 1.0])"
      ]
     },
     "execution_count": 59,
     "metadata": {},
     "output_type": "execute_result"
    }
   ],
   "source": [
    "plot_probability_curve(mar_2021, usage_series)"
   ]
  },
  {
   "cell_type": "code",
   "execution_count": 60,
   "metadata": {},
   "outputs": [
    {
     "data": {
      "image/png": "[encoded data removed]",
      "text/plain": [
       "<Figure size 576x432 with 1 Axes>"
      ]
     },
     "metadata": {
      "needs_background": "light"
     },
     "output_type": "display_data"
    },
    {
     "data": {
      "text/plain": [
       "(array([22, 23, 24, 25, 26, 27, 28, 29, 30, 31, 32, 33, 34, 35]),\n",
       " [0.0, 0.0, 0.0, 0.0, 0.0, 0.0, 0.08, 0.16, 0.29, 0.5, 0.38, 0.5, 0.5, 0.5])"
      ]
     },
     "execution_count": 60,
     "metadata": {},
     "output_type": "execute_result"
    }
   ],
   "source": [
    "plot_probability_curve(max_temps_summer, usage_series_summer)"
   ]
  },
  {
   "cell_type": "code",
   "execution_count": 61,
   "metadata": {},
   "outputs": [
    {
     "data": {
      "image/png": "[encoded data removed]",
      "text/plain": [
       "<Figure size 576x432 with 1 Axes>"
      ]
     },
     "metadata": {
      "needs_background": "light"
     },
     "output_type": "display_data"
    },
    {
     "data": {
      "text/plain": [
       "(array([ 7,  8,  9, 10, 11, 12, 13, 14, 15, 16, 17, 18]),\n",
       " [1.0, 0.33, 0.92, 0.85, 0.77, 0.67, 0.55, 0.38, 0.4, 0.0, 0.0, 0.0])"
      ]
     },
     "execution_count": 61,
     "metadata": {},
     "output_type": "execute_result"
    }
   ],
   "source": [
    "plot_probability_curve(min_temps_winter, usage_series_winter)"
   ]
  },
  {
   "cell_type": "code",
   "execution_count": 62,
   "metadata": {},
   "outputs": [],
   "source": [
    "def plot_probs_combined(min_temps_winter: List[int], usage_series_winter: pd.Series, max_temps_summer: List[int], usage_series_summer: pd.Series):\n",
    "    winter_probs = get_probabilities(min_temps_winter, usage_series_winter)\n",
    "    summer_probs = get_probabilities(max_temps_summer, usage_series_summer)\n",
    "    \n",
    "    all_temps = np.arange(min(min_temps_winter), max(max_temps_summer)+1, 1)\n",
    "    all_probs = [0.0] * len(all_temps)\n",
    "    \n",
    "    i=0\n",
    "    while (i < len(winter_probs)):\n",
    "        all_probs[i] = winter_probs[i]\n",
    "        i+=1\n",
    "\n",
    "    j = len(all_probs) - len(summer_probs)\n",
    "    while (j < len(all_probs)):\n",
    "        all_probs[j] = summer_probs[j-len(summer_probs)-1]\n",
    "        j+=1\n",
    "        \n",
    "    interpolated = pd.Series(all_probs).interpolate().values.ravel().tolist()\n",
    "    \n",
    "    fig = plt.figure(figsize=(8,6))\n",
    "    plt.plot(all_temps, interpolated)\n",
    "\n",
    "    ax = plt.gca()\n",
    "    ax.set_ylim([0.0,1.0])\n",
    "\n",
    "    plt.xlabel(\"Temperature (C)\")\n",
    "    plt.ylabel(\"Probability of Aircon Use\")\n",
    "    plt.title(\"Probability Curve of Aircon Usage vs Temperature\")\n",
    "    plt.show()\n",
    "    \n",
    "    return all_temps, all_probs"
   ]
  },
  {
   "cell_type": "code",
   "execution_count": 63,
   "metadata": {},
   "outputs": [
    {
     "data": {
      "image/png": "[encoded data removed]",
      "text/plain": [
       "<Figure size 576x432 with 1 Axes>"
      ]
     },
     "metadata": {
      "needs_background": "light"
     },
     "output_type": "display_data"
    },
    {
     "data": {
      "text/plain": [
       "(array([ 7,  8,  9, 10, 11, 12, 13, 14, 15, 16, 17, 18, 19, 20, 21, 22, 23,\n",
       "        24, 25, 26, 27, 28, 29, 30, 31, 32, 33, 34, 35]),\n",
       " [1.0,\n",
       "  0.33,\n",
       "  0.92,\n",
       "  0.85,\n",
       "  0.77,\n",
       "  0.67,\n",
       "  0.55,\n",
       "  0.38,\n",
       "  0.4,\n",
       "  0.0,\n",
       "  nan,\n",
       "  0.0,\n",
       "  0.0,\n",
       "  0.0,\n",
       "  0.0,\n",
       "  0.0,\n",
       "  0.0,\n",
       "  nan,\n",
       "  0.0,\n",
       "  0.0,\n",
       "  0.0,\n",
       "  0.08,\n",
       "  0.16,\n",
       "  0.29,\n",
       "  0.5,\n",
       "  0.38,\n",
       "  0.5,\n",
       "  nan,\n",
       "  0.5])"
      ]
     },
     "execution_count": 63,
     "metadata": {},
     "output_type": "execute_result"
    }
   ],
   "source": [
    "# TODO: Maybe filter this so that only major aircon usages are plotted.\n",
    "plot_probs_combined(min_temps_winter, usage_series_winter, max_temps_summer, usage_series_summer)"
   ]
  },
  {
   "cell_type": "code",
   "execution_count": null,
   "metadata": {},
   "outputs": [],
   "source": []
  },
  {
   "cell_type": "code",
   "execution_count": 64,
   "metadata": {},
   "outputs": [],
   "source": [
    "# Microwave vs Stovetop Visualisation\n",
    "\n",
    "#  1. Get access to PhiSaver API\n",
    "#  2. Get average of all households' microwave use AND stovetop use\n",
    "#  3. ..."
   ]
  },
  {
   "cell_type": "code",
   "execution_count": null,
   "metadata": {},
   "outputs": [],
   "source": []
  },
  {
   "cell_type": "code",
   "execution_count": null,
   "metadata": {},
   "outputs": [],
   "source": []
  },
  {
   "cell_type": "code",
   "execution_count": 65,
   "metadata": {},
   "outputs": [],
   "source": [
    "from influxdb import InfluxDBClient, DataFrameClient"
   ]
  },
  {
   "cell_type": "code",
   "execution_count": null,
   "metadata": {},
   "outputs": [],
   "source": []
  },
  {
   "cell_type": "code",
   "execution_count": null,
   "metadata": {},
   "outputs": [],
   "source": []
  },
  {
   "cell_type": "code",
   "execution_count": null,
   "metadata": {},
   "outputs": [],
   "source": []
  },
  {
   "cell_type": "code",
   "execution_count": 66,
   "metadata": {},
   "outputs": [],
   "source": [
    "client2 = InfluxDBClient(host='live2.phisaver.com', database='phisaver', username='reader', password='Rmagine!', port=8086, headers={'Accept': 'application/json'}, gzip=True)\n",
    "# q = \"\"\"SELECT * FROM \"iotawatt\" WHERE \"device\" = 'hfs01a' AND \"time\" > '2021-05-31T11:58:20Z' - 12w\"\"\"\n",
    "\n",
    "# client_df = pd.DataFrame(client2.query(q, chunked=True))\n"
   ]
  },
  {
   "cell_type": "code",
   "execution_count": null,
   "metadata": {},
   "outputs": [],
   "source": []
  },
  {
   "cell_type": "code",
   "execution_count": null,
   "metadata": {},
   "outputs": [],
   "source": []
  },
  {
   "cell_type": "code",
   "execution_count": null,
   "metadata": {},
   "outputs": [],
   "source": [
    "\n",
    "\n"
   ]
  },
  {
   "cell_type": "code",
   "execution_count": null,
   "metadata": {},
   "outputs": [],
   "source": []
  },
  {
   "cell_type": "code",
   "execution_count": null,
   "metadata": {},
   "outputs": [],
   "source": []
  },
  {
   "cell_type": "code",
   "execution_count": null,
   "metadata": {},
   "outputs": [],
   "source": []
  },
  {
   "cell_type": "code",
   "execution_count": 67,
   "metadata": {},
   "outputs": [],
   "source": [
    "power_circuits = { \\\n",
    "                  \"uq10\": \"Powerpoints1\",\n",
    "                  \"uq12\": \"Powerpoints2\",\n",
    "                  \"uq23\": \"Powerpoints1\",\n",
    "                  \"uq24\": \"Powerpoints2\",\n",
    "                  \"uq26\": \"Powerpoints1\"\n",
    "                 }"
   ]
  },
  {
   "cell_type": "code",
   "execution_count": 68,
   "metadata": {},
   "outputs": [],
   "source": [
    "stove_circuits = { \\\n",
    "                  \"uq10\": \"Oven\",\n",
    "                  \"uq12\": \"Stove\",\n",
    "                  \"uq23\": \"Stove\",\n",
    "                  \"uq24\": \"OvenHob\",\n",
    "                  \"uq26\": \"Stove\"\n",
    "                 }"
   ]
  },
  {
   "cell_type": "code",
   "execution_count": 69,
   "metadata": {},
   "outputs": [],
   "source": [
    "# Calculate average (or similar) and bounds for microwave and stovetop usage\n"
   ]
  },
  {
   "cell_type": "code",
   "execution_count": 70,
   "metadata": {},
   "outputs": [],
   "source": [
    "def get_data_in_period(client, start_date, end_date, device, sensor):\n",
    "    current_date = start_date\n",
    "    dataF = pd.DataFrame()\n",
    "    \n",
    "    while (current_date < end_date):\n",
    "        q = \"\"\"SELECT * FROM \"iotawatt\" WHERE \"device\" = {} AND \"sensor\" = {} AND \"time\" >= {} AND \"time\" <= {}\"\"\".format(device, sensor, current_date, end_date)\n",
    "        print(q)\n",
    "        data = pd.DataFrame(client.query(q, chunked=True))\n",
    "        dataF = dataF.append(data, ignore_index=True)\n",
    "        most_recent_time = get_most_recent_time(dataF)\n",
    "        current_date = most_recent_time\n",
    "    \n",
    "    return dataF"
   ]
  },
  {
   "cell_type": "code",
   "execution_count": 71,
   "metadata": {},
   "outputs": [],
   "source": [
    "def get_most_recent_time(df):\n",
    "    last_idx = df.index[-1]-1\n",
    "    last_arr = df[0][last_idx]\n",
    "    last_time = last_arr[-1].get(\"time\")\n",
    "    return \"'{}'\".format(last_time)"
   ]
  },
  {
   "cell_type": "code",
   "execution_count": 72,
   "metadata": {},
   "outputs": [],
   "source": [
    "# dataframes = []\n",
    "# for i, home in enumerate(power_circuits):\n",
    "#     dataframes.append(get_data_in_period(client2, \"'2021-03-01T00:00:00Z'\", \"'2021-03-31T23:59:50Z'\", \"'{}'\".format(home), \"'{}'\".format(power_circuits[home])))"
   ]
  },
  {
   "cell_type": "code",
   "execution_count": 73,
   "metadata": {},
   "outputs": [],
   "source": [
    "# stove_dataframes = []\n",
    "# for i, home in enumerate(stove_circuits):\n",
    "#     stove_dataframes.append(get_data_in_period(client2, \"'2021-03-01T00:00:00Z'\", \"'2021-03-31T23:59:50Z'\", \"'{}'\".format(home), \"'{}'\".format(stove_circuits[home])))    "
   ]
  },
  {
   "cell_type": "code",
   "execution_count": 74,
   "metadata": {},
   "outputs": [],
   "source": [
    "# Now pre-process these df's into the format required for the process() method."
   ]
  },
  {
   "cell_type": "code",
   "execution_count": 159,
   "metadata": {},
   "outputs": [],
   "source": [
    "def pre_process(dataframes):\n",
    "    post_process = []\n",
    "    if (type(dataframes) != 'list'):\n",
    "        new_df = []\n",
    "        new_df.append(dataframes)\n",
    "        dataframes = new_df\n",
    "        \n",
    "    for dataframe in dataframes:\n",
    "        df = pd.DataFrame()\n",
    "        for inner_df in dataframe[0]:\n",
    "            to_append = pd.DataFrame(inner_df)\n",
    "            to_append = to_append.set_index('time')\n",
    "            to_append = to_append.loc[:, \"Watts\"]\n",
    "#             to_append = to_append[~to_append.index.duplicated()]\n",
    "            to_append = to_append.to_frame()\n",
    "    \n",
    "            # Filter out the time values that are not on the minute for getting 1-min granularity\n",
    "#             to_append = to_append.groupby(np.arange(len(to_append))//6).mean()\n",
    "#             to_append = to_append.loc[to_append.index.str.endswith('00Z')]\n",
    "            df = df.append(to_append)\n",
    "        print(\"Processing: \", df)\n",
    "        \n",
    "        processing = process_row(df.squeeze())\n",
    "        # Granularity filter\n",
    "#         print(\"PPPP: \", processing)\n",
    "#         processing_means = processing.groupby(np.arange(len(processing))//6).sum()\n",
    "#         processing_means.index = processing.index[::6]\n",
    "\n",
    "        print(\"Post process: \", processing)\n",
    "        post_process.append(processing)\n",
    "        \n",
    "    for df in post_process:\n",
    "        df.index = df.index.to_series().apply(lambda x: datetime.datetime.strptime(x, '%Y-%m-%dT%H:%M:%SZ').strftime('%Y-%m-%d %H:%M:%S'))\n",
    "\n",
    "    return post_process"
   ]
  },
  {
   "cell_type": "code",
   "execution_count": null,
   "metadata": {},
   "outputs": [],
   "source": [
    "\n"
   ]
  },
  {
   "cell_type": "code",
   "execution_count": 76,
   "metadata": {},
   "outputs": [],
   "source": [
    "# processed = pre_process(dataframes)\n",
    "# processed"
   ]
  },
  {
   "cell_type": "code",
   "execution_count": 77,
   "metadata": {},
   "outputs": [],
   "source": [
    "# stove_processed = pre_process(stove_dataframes)\n",
    "# stove_processed"
   ]
  },
  {
   "cell_type": "code",
   "execution_count": null,
   "metadata": {},
   "outputs": [],
   "source": []
  },
  {
   "cell_type": "code",
   "execution_count": 78,
   "metadata": {},
   "outputs": [],
   "source": [
    "def microwave_stove_peaks(processed, stove_processed):\n",
    "    microwave = []\n",
    "    stove = []\n",
    "    \n",
    "    for df in processed:\n",
    "        microwave_peaks = get_peaks(df, 600, 1200, 0, 10, 0)\n",
    "        microwave.append(len(microwave_peaks))\n",
    "        \n",
    "    for df in stove_processed:\n",
    "        stove_peaks = get_peaks(df, 500, 5000, 0, 120, 60)\n",
    "        stove.append(len(stove_peaks))\n",
    "        \n",
    "    return microwave, stove"
   ]
  },
  {
   "cell_type": "code",
   "execution_count": 81,
   "metadata": {},
   "outputs": [],
   "source": [
    "# microwave_peaks, stove_peaks = microwave_stove_peaks(processed, stove_processed)"
   ]
  },
  {
   "cell_type": "code",
   "execution_count": 82,
   "metadata": {},
   "outputs": [],
   "source": [
    "# print(microwave_peaks)\n",
    "# print(stove_peaks)"
   ]
  },
  {
   "cell_type": "code",
   "execution_count": 83,
   "metadata": {},
   "outputs": [],
   "source": [
    "def normalise(x, x_min, x_max):\n",
    "    return round(2*((x-x_min)/(x_max-x_min))-1,2)"
   ]
  },
  {
   "cell_type": "code",
   "execution_count": 84,
   "metadata": {},
   "outputs": [],
   "source": [
    "# uq49_microwave_normalised = normalise(len(microwave_peaks_uq49), min(microwave_peaks), max(microwave_peaks))\n",
    "# uq49_stove_normalised = normalise(len(stove_peaks_uq49), min(stove_peaks), max(stove_peaks))\n",
    "\n",
    "# print(uq49_microwave_normalised)\n",
    "# print(uq49_stove_normalised)"
   ]
  },
  {
   "cell_type": "code",
   "execution_count": 85,
   "metadata": {},
   "outputs": [],
   "source": [
    "# hfs01a_microwave_normalised = normalise(len(hfs01a_microwave_peaks), min(microwave_peaks), max(microwave_peaks))\n",
    "# hfs01a_stove_normalised = normalise(len(hfs01a_stove_peaks), min(stove_peaks), max(stove_peaks))\n",
    "\n",
    "# print(hfs01a_microwave_normalised)\n",
    "# print(hfs01a_stove_normalised)"
   ]
  },
  {
   "cell_type": "code",
   "execution_count": 86,
   "metadata": {},
   "outputs": [],
   "source": [
    "# import requests\n",
    "# # data={'microwave': hfs01a_microwave_normalised, 'stovetop': hfs01a_stove_normalised}\n",
    "# data={'microwave': uq49_microwave_normalised, 'stovetop': uq49_stove_normalised}\n",
    "\n",
    "# r = requests.post('http://localhost:3001/data', data=data)\n",
    "# print(r.json())\n",
    "# print(r.status_code)"
   ]
  },
  {
   "cell_type": "code",
   "execution_count": 87,
   "metadata": {},
   "outputs": [],
   "source": [
    "# %history -g"
   ]
  },
  {
   "cell_type": "code",
   "execution_count": 88,
   "metadata": {},
   "outputs": [],
   "source": [
    "light_circuits = { \\\n",
    "                  \"uq10\": \"Lights1\",\n",
    "                  \"uq12\": \"Lights12\",\n",
    "                  \"uq23\": \"Lights1\",\n",
    "                  \"uq24\": \"Lights1\",\n",
    "                  \"uq26\": \"Light\",\n",
    "                  \"hfs01a\": \"Lights2\"\n",
    "                 }"
   ]
  },
  {
   "cell_type": "code",
   "execution_count": 89,
   "metadata": {},
   "outputs": [
    {
     "name": "stdout",
     "output_type": "stream",
     "text": [
      "SELECT * FROM \"iotawatt\" WHERE \"device\" = 'uq10' AND \"sensor\" = 'Lights1' AND \"time\" >= '2021-03-01T00:00:00Z' AND \"time\" <= '2021-03-31T23:59:50Z'\n",
      "SELECT * FROM \"iotawatt\" WHERE \"device\" = 'uq10' AND \"sensor\" = 'Lights1' AND \"time\" >= '2021-03-31T02:29:10Z' AND \"time\" <= '2021-03-31T23:59:50Z'\n",
      "SELECT * FROM \"iotawatt\" WHERE \"device\" = 'uq12' AND \"sensor\" = 'Lights12' AND \"time\" >= '2021-03-01T00:00:00Z' AND \"time\" <= '2021-03-31T23:59:50Z'\n",
      "SELECT * FROM \"iotawatt\" WHERE \"device\" = 'uq12' AND \"sensor\" = 'Lights12' AND \"time\" >= '2021-03-31T02:13:10Z' AND \"time\" <= '2021-03-31T23:59:50Z'\n",
      "SELECT * FROM \"iotawatt\" WHERE \"device\" = 'uq23' AND \"sensor\" = 'Lights1' AND \"time\" >= '2021-03-01T00:00:00Z' AND \"time\" <= '2021-03-31T23:59:50Z'\n",
      "SELECT * FROM \"iotawatt\" WHERE \"device\" = 'uq23' AND \"sensor\" = 'Lights1' AND \"time\" >= '2021-03-31T02:17:40Z' AND \"time\" <= '2021-03-31T23:59:50Z'\n",
      "SELECT * FROM \"iotawatt\" WHERE \"device\" = 'uq24' AND \"sensor\" = 'Lights1' AND \"time\" >= '2021-03-01T00:00:00Z' AND \"time\" <= '2021-03-31T23:59:50Z'\n",
      "SELECT * FROM \"iotawatt\" WHERE \"device\" = 'uq24' AND \"sensor\" = 'Lights1' AND \"time\" >= '2021-03-31T02:16:30Z' AND \"time\" <= '2021-03-31T23:59:50Z'\n",
      "SELECT * FROM \"iotawatt\" WHERE \"device\" = 'uq26' AND \"sensor\" = 'Light' AND \"time\" >= '2021-03-01T00:00:00Z' AND \"time\" <= '2021-03-31T23:59:50Z'\n",
      "SELECT * FROM \"iotawatt\" WHERE \"device\" = 'uq26' AND \"sensor\" = 'Light' AND \"time\" >= '2021-03-31T02:18:30Z' AND \"time\" <= '2021-03-31T23:59:50Z'\n",
      "SELECT * FROM \"iotawatt\" WHERE \"device\" = 'hfs01a' AND \"sensor\" = 'Lights2' AND \"time\" >= '2021-03-01T00:00:00Z' AND \"time\" <= '2021-03-31T23:59:50Z'\n",
      "SELECT * FROM \"iotawatt\" WHERE \"device\" = 'hfs01a' AND \"sensor\" = 'Lights2' AND \"time\" >= '2021-03-31T16:06:55Z' AND \"time\" <= '2021-03-31T23:59:50Z'\n"
     ]
    }
   ],
   "source": [
    "# !!!  Only call this when needing to query DB again  !!!\n",
    "\n",
    "light_dataframes = []\n",
    "for i, home in enumerate(light_circuits):\n",
    "    light_dataframes.append(get_data_in_period(client2, \"'2021-03-01T00:00:00Z'\", \"'2021-03-31T23:59:50Z'\", \"'{}'\".format(home), \"'{}'\".format(light_circuits[home])))"
   ]
  },
  {
   "cell_type": "code",
   "execution_count": 154,
   "metadata": {},
   "outputs": [
    {
     "data": {
      "text/plain": [
       "list"
      ]
     },
     "execution_count": 154,
     "metadata": {},
     "output_type": "execute_result"
    }
   ],
   "source": [
    "type(light_dataframes)"
   ]
  },
  {
   "cell_type": "code",
   "execution_count": 90,
   "metadata": {},
   "outputs": [
    {
     "name": "stdout",
     "output_type": "stream",
     "text": [
      "Processing:                         Watts\n",
      "time                        \n",
      "2021-03-01T00:00:00Z  263.54\n",
      "2021-03-01T00:00:10Z  264.36\n",
      "2021-03-01T00:00:20Z  263.86\n",
      "2021-03-01T00:00:30Z  263.78\n",
      "2021-03-01T00:00:40Z  263.59\n",
      "...                      ...\n",
      "2021-03-31T23:59:10Z   19.92\n",
      "2021-03-31T23:59:20Z   19.79\n",
      "2021-03-31T23:59:30Z   19.86\n",
      "2021-03-31T23:59:40Z   19.86\n",
      "2021-03-31T23:59:50Z   19.81\n",
      "\n",
      "[275489 rows x 1 columns]\n",
      "Post process:  time\n",
      "2021-03-01T00:00:00Z    264\n",
      "2021-03-01T00:00:10Z    264\n",
      "2021-03-01T00:00:20Z    264\n",
      "2021-03-01T00:00:30Z    264\n",
      "2021-03-01T00:00:40Z    264\n",
      "                       ... \n",
      "2021-03-31T23:59:10Z     20\n",
      "2021-03-31T23:59:20Z     20\n",
      "2021-03-31T23:59:30Z     20\n",
      "2021-03-31T23:59:40Z     20\n",
      "2021-03-31T23:59:50Z     20\n",
      "Length: 275489, dtype: int64\n",
      "Processing:                        Watts\n",
      "time                       \n",
      "2021-03-01T00:00:00Z   0.26\n",
      "2021-03-01T00:00:10Z   0.23\n",
      "2021-03-01T00:00:20Z   0.28\n",
      "2021-03-01T00:00:30Z   0.25\n",
      "2021-03-01T00:00:40Z   0.23\n",
      "...                     ...\n",
      "2021-03-31T23:59:10Z   0.23\n",
      "2021-03-31T23:59:20Z   0.24\n",
      "2021-03-31T23:59:30Z   0.20\n",
      "2021-03-31T23:59:40Z   0.33\n",
      "2021-03-31T23:59:50Z   0.35\n",
      "\n",
      "[275681 rows x 1 columns]\n",
      "Post process:  time\n",
      "2021-03-01T00:00:00Z    0\n",
      "2021-03-01T00:00:10Z    0\n",
      "2021-03-01T00:00:20Z    0\n",
      "2021-03-01T00:00:30Z    0\n",
      "2021-03-01T00:00:40Z    0\n",
      "                       ..\n",
      "2021-03-31T23:59:10Z    0\n",
      "2021-03-31T23:59:20Z    0\n",
      "2021-03-31T23:59:30Z    0\n",
      "2021-03-31T23:59:40Z    0\n",
      "2021-03-31T23:59:50Z    0\n",
      "Length: 275681, dtype: int64\n",
      "Processing:                        Watts\n",
      "time                       \n",
      "2021-03-01T00:00:00Z  49.32\n",
      "2021-03-01T00:00:10Z  49.32\n",
      "2021-03-01T00:00:20Z  49.86\n",
      "2021-03-01T00:00:30Z  50.21\n",
      "2021-03-01T00:00:40Z  50.02\n",
      "...                     ...\n",
      "2021-03-31T23:59:10Z   0.14\n",
      "2021-03-31T23:59:20Z   0.07\n",
      "2021-03-31T23:59:30Z   0.30\n",
      "2021-03-31T23:59:40Z   0.28\n",
      "2021-03-31T23:59:50Z   1.06\n",
      "\n",
      "[275627 rows x 1 columns]\n",
      "Post process:  time\n",
      "2021-03-01T00:00:00Z    49\n",
      "2021-03-01T00:00:10Z    49\n",
      "2021-03-01T00:00:20Z    50\n",
      "2021-03-01T00:00:30Z    50\n",
      "2021-03-01T00:00:40Z    50\n",
      "                        ..\n",
      "2021-03-31T23:59:10Z     0\n",
      "2021-03-31T23:59:20Z     0\n",
      "2021-03-31T23:59:30Z     0\n",
      "2021-03-31T23:59:40Z     0\n",
      "2021-03-31T23:59:50Z     1\n",
      "Length: 275627, dtype: int64\n",
      "Processing:                        Watts\n",
      "time                       \n",
      "2021-03-01T00:00:00Z  85.42\n",
      "2021-03-01T00:00:10Z  47.23\n",
      "2021-03-01T00:00:20Z  46.91\n",
      "2021-03-01T00:00:30Z  48.92\n",
      "2021-03-01T00:00:40Z  47.12\n",
      "...                     ...\n",
      "2021-03-31T23:59:10Z  86.51\n",
      "2021-03-31T23:59:20Z  90.05\n",
      "2021-03-31T23:59:30Z  82.23\n",
      "2021-03-31T23:59:40Z  75.53\n",
      "2021-03-31T23:59:50Z  63.24\n",
      "\n",
      "[275641 rows x 1 columns]\n",
      "Post process:  time\n",
      "2021-03-01T00:00:00Z    85\n",
      "2021-03-01T00:00:10Z    47\n",
      "2021-03-01T00:00:20Z    47\n",
      "2021-03-01T00:00:30Z    49\n",
      "2021-03-01T00:00:40Z    47\n",
      "                        ..\n",
      "2021-03-31T23:59:10Z    87\n",
      "2021-03-31T23:59:20Z    90\n",
      "2021-03-31T23:59:30Z    82\n",
      "2021-03-31T23:59:40Z    76\n",
      "2021-03-31T23:59:50Z    63\n",
      "Length: 275641, dtype: int64\n",
      "Processing:                        Watts\n",
      "time                       \n",
      "2021-03-01T00:00:00Z   1.94\n",
      "2021-03-01T00:00:10Z   1.95\n",
      "2021-03-01T00:00:20Z   1.98\n",
      "2021-03-01T00:00:30Z   1.97\n",
      "2021-03-01T00:00:40Z   2.21\n",
      "...                     ...\n",
      "2021-03-31T23:59:10Z  23.02\n",
      "2021-03-31T23:59:20Z  22.88\n",
      "2021-03-31T23:59:30Z  22.83\n",
      "2021-03-31T23:59:40Z  22.99\n",
      "2021-03-31T23:59:50Z  23.28\n",
      "\n",
      "[275617 rows x 1 columns]\n",
      "Post process:  time\n",
      "2021-03-01T00:00:00Z     2\n",
      "2021-03-01T00:00:10Z     2\n",
      "2021-03-01T00:00:20Z     2\n",
      "2021-03-01T00:00:30Z     2\n",
      "2021-03-01T00:00:40Z     2\n",
      "                        ..\n",
      "2021-03-31T23:59:10Z    23\n",
      "2021-03-31T23:59:20Z    23\n",
      "2021-03-31T23:59:30Z    23\n",
      "2021-03-31T23:59:40Z    23\n",
      "2021-03-31T23:59:50Z    23\n",
      "Length: 275617, dtype: int64\n",
      "Processing:                        Watts\n",
      "time                       \n",
      "2021-03-01T00:00:00Z  60.96\n",
      "2021-03-01T00:00:05Z  61.08\n",
      "2021-03-01T00:00:10Z  60.91\n",
      "2021-03-01T00:00:15Z  60.84\n",
      "2021-03-01T00:00:20Z  60.93\n",
      "...                     ...\n",
      "2021-03-31T23:59:30Z  35.00\n",
      "2021-03-31T23:59:35Z  34.94\n",
      "2021-03-31T23:59:40Z  34.90\n",
      "2021-03-31T23:59:45Z  34.93\n",
      "2021-03-31T23:59:50Z  35.02\n",
      "\n",
      "[541351 rows x 1 columns]\n",
      "Post process:  time\n",
      "2021-03-01T00:00:00Z    61\n",
      "2021-03-01T00:00:05Z    61\n",
      "2021-03-01T00:00:10Z    61\n",
      "2021-03-01T00:00:15Z    61\n",
      "2021-03-01T00:00:20Z    61\n",
      "                        ..\n",
      "2021-03-31T23:59:30Z    35\n",
      "2021-03-31T23:59:35Z    35\n",
      "2021-03-31T23:59:40Z    35\n",
      "2021-03-31T23:59:45Z    35\n",
      "2021-03-31T23:59:50Z    35\n",
      "Length: 541351, dtype: int64\n"
     ]
    },
    {
     "data": {
      "text/plain": [
       "[time\n",
       " 2021-03-01 00:00:00    264\n",
       " 2021-03-01 00:00:10    264\n",
       " 2021-03-01 00:00:20    264\n",
       " 2021-03-01 00:00:30    264\n",
       " 2021-03-01 00:00:40    264\n",
       "                       ... \n",
       " 2021-03-31 23:59:10     20\n",
       " 2021-03-31 23:59:20     20\n",
       " 2021-03-31 23:59:30     20\n",
       " 2021-03-31 23:59:40     20\n",
       " 2021-03-31 23:59:50     20\n",
       " Length: 275489, dtype: int64,\n",
       " time\n",
       " 2021-03-01 00:00:00    0\n",
       " 2021-03-01 00:00:10    0\n",
       " 2021-03-01 00:00:20    0\n",
       " 2021-03-01 00:00:30    0\n",
       " 2021-03-01 00:00:40    0\n",
       "                       ..\n",
       " 2021-03-31 23:59:10    0\n",
       " 2021-03-31 23:59:20    0\n",
       " 2021-03-31 23:59:30    0\n",
       " 2021-03-31 23:59:40    0\n",
       " 2021-03-31 23:59:50    0\n",
       " Length: 275681, dtype: int64,\n",
       " time\n",
       " 2021-03-01 00:00:00    49\n",
       " 2021-03-01 00:00:10    49\n",
       " 2021-03-01 00:00:20    50\n",
       " 2021-03-01 00:00:30    50\n",
       " 2021-03-01 00:00:40    50\n",
       "                        ..\n",
       " 2021-03-31 23:59:10     0\n",
       " 2021-03-31 23:59:20     0\n",
       " 2021-03-31 23:59:30     0\n",
       " 2021-03-31 23:59:40     0\n",
       " 2021-03-31 23:59:50     1\n",
       " Length: 275627, dtype: int64,\n",
       " time\n",
       " 2021-03-01 00:00:00    85\n",
       " 2021-03-01 00:00:10    47\n",
       " 2021-03-01 00:00:20    47\n",
       " 2021-03-01 00:00:30    49\n",
       " 2021-03-01 00:00:40    47\n",
       "                        ..\n",
       " 2021-03-31 23:59:10    87\n",
       " 2021-03-31 23:59:20    90\n",
       " 2021-03-31 23:59:30    82\n",
       " 2021-03-31 23:59:40    76\n",
       " 2021-03-31 23:59:50    63\n",
       " Length: 275641, dtype: int64,\n",
       " time\n",
       " 2021-03-01 00:00:00     2\n",
       " 2021-03-01 00:00:10     2\n",
       " 2021-03-01 00:00:20     2\n",
       " 2021-03-01 00:00:30     2\n",
       " 2021-03-01 00:00:40     2\n",
       "                        ..\n",
       " 2021-03-31 23:59:10    23\n",
       " 2021-03-31 23:59:20    23\n",
       " 2021-03-31 23:59:30    23\n",
       " 2021-03-31 23:59:40    23\n",
       " 2021-03-31 23:59:50    23\n",
       " Length: 275617, dtype: int64,\n",
       " time\n",
       " 2021-03-01 00:00:00    61\n",
       " 2021-03-01 00:00:05    61\n",
       " 2021-03-01 00:00:10    61\n",
       " 2021-03-01 00:00:15    61\n",
       " 2021-03-01 00:00:20    61\n",
       "                        ..\n",
       " 2021-03-31 23:59:30    35\n",
       " 2021-03-31 23:59:35    35\n",
       " 2021-03-31 23:59:40    35\n",
       " 2021-03-31 23:59:45    35\n",
       " 2021-03-31 23:59:50    35\n",
       " Length: 541351, dtype: int64]"
      ]
     },
     "execution_count": 90,
     "metadata": {},
     "output_type": "execute_result"
    }
   ],
   "source": [
    "light_processed = pre_process(light_dataframes)\n",
    "light_processed"
   ]
  },
  {
   "cell_type": "code",
   "execution_count": 91,
   "metadata": {},
   "outputs": [],
   "source": [
    "def get_all_circadian_rythm(light_processed):\n",
    "    lst = []\n",
    "    for index, i in enumerate(light_processed, 1):\n",
    "        try:\n",
    "            print(\"PROCESSING: \", index)\n",
    "            lst.append(get_circadian_rythm(i))\n",
    "        except ZeroDivisionError:\n",
    "            print(\"zero div err\")\n",
    "#             lst.append(('0', '0'))\n",
    "            \n",
    "    return lst\n",
    "    #return [get_circadian_rythm(i) for i in light_processed]"
   ]
  },
  {
   "cell_type": "code",
   "execution_count": 92,
   "metadata": {},
   "outputs": [
    {
     "name": "stdout",
     "output_type": "stream",
     "text": [
      "PROCESSING:  1\n",
      "PROCESSING:  2\n",
      "PROCESSING:  3\n",
      "zero div err\n",
      "PROCESSING:  4\n",
      "PROCESSING:  5\n",
      "PROCESSING:  6\n"
     ]
    },
    {
     "data": {
      "text/plain": [
       "[('05:16:00', '22:02:00'),\n",
       " ('05:13:00', '23:03:00'),\n",
       " ('06:16:00', '22:07:00'),\n",
       " ('06:53:00', '23:08:00'),\n",
       " ('05:58:00', '21:54:00')]"
      ]
     },
     "execution_count": 92,
     "metadata": {},
     "output_type": "execute_result"
    }
   ],
   "source": [
    "circadian_rythms = get_all_circadian_rythm(light_processed)\n",
    "circadian_rythms"
   ]
  },
  {
   "cell_type": "code",
   "execution_count": null,
   "metadata": {},
   "outputs": [],
   "source": []
  },
  {
   "cell_type": "code",
   "execution_count": 93,
   "metadata": {},
   "outputs": [],
   "source": [
    "def get_average_circadian_rythm_time(times):\n",
    "    total_morning_seconds = 0\n",
    "    total_night_seconds = 0\n",
    "    min_morning = '23:59:59'\n",
    "    max_morning = '00:00:01'\n",
    "    min_night = '23:59:59'\n",
    "    max_night = '00:00:01'\n",
    "    \n",
    "    fmt = \"%H:%M:%S\"\n",
    "    \n",
    "    for tup in times:\n",
    "        total_morning_seconds += int(tup[0][6:8])\n",
    "        total_morning_seconds += int(tup[0][3:5]) * 60\n",
    "        total_morning_seconds += int(tup[0][0:2]) * 60 * 60\n",
    "        \n",
    "        total_night_seconds += int(tup[1][6:8])\n",
    "        total_night_seconds += int(tup[1][3:5]) * 60\n",
    "        total_night_seconds += int(tup[1][0:2]) * 60 * 60\n",
    "        \n",
    "        if (datetime.datetime.strptime(tup[0], fmt) < datetime.datetime.strptime(min_morning, fmt)):\n",
    "            min_morning = tup[0]\n",
    "        if (datetime.datetime.strptime(tup[0], fmt) > datetime.datetime.strptime(max_morning, fmt)):\n",
    "            max_morning = tup[0]\n",
    "            \n",
    "        if (datetime.datetime.strptime(tup[1], fmt) < datetime.datetime.strptime(min_night, fmt)):\n",
    "            min_night = tup[1]\n",
    "        if (datetime.datetime.strptime(tup[1], fmt) > datetime.datetime.strptime(max_night, fmt)):\n",
    "            max_night = tup[1]\n",
    "        \n",
    "    seconds = total_morning_seconds\n",
    "    hours, seconds =  str((seconds // 3600) // len(times)).zfill(2), seconds % 3600\n",
    "    minutes, seconds = str(seconds // 60).zfill(2), str(seconds % 60).zfill(2)\n",
    "    average_morning = \"{}:{}:{}\".format(hours, minutes, seconds)\n",
    "    \n",
    "    seconds = total_night_seconds\n",
    "    hours, seconds =  str((seconds // 3600) // len(times)).zfill(2), seconds % 3600\n",
    "    minutes, seconds = str(seconds // 60).zfill(2), str(seconds % 60).zfill(2)\n",
    "    average_night = \"{}:{}:{}\".format(hours, minutes, seconds)\n",
    "    \n",
    "    return { \\\n",
    "            'min_morning': min_morning, \\\n",
    "            'average_morning': average_morning, \\\n",
    "            'max_morning': max_morning, \\\n",
    "            'min_night': min_night, \\\n",
    "            'average_night': average_night, \\\n",
    "            'max_night': max_night \\\n",
    "           }"
   ]
  },
  {
   "cell_type": "code",
   "execution_count": 94,
   "metadata": {},
   "outputs": [
    {
     "data": {
      "text/plain": [
       "{'min_morning': '05:13:00',\n",
       " 'average_morning': '05:36:00',\n",
       " 'max_morning': '06:53:00',\n",
       " 'min_night': '21:54:00',\n",
       " 'average_night': '22:14:00',\n",
       " 'max_night': '23:08:00'}"
      ]
     },
     "execution_count": 94,
     "metadata": {},
     "output_type": "execute_result"
    }
   ],
   "source": [
    "circadian_rythm_data = get_average_circadian_rythm_time(circadian_rythms)\n",
    "circadian_rythm_data"
   ]
  },
  {
   "cell_type": "code",
   "execution_count": 95,
   "metadata": {},
   "outputs": [],
   "source": [
    "# import requests\n",
    "# microwave_stovetop = {'microwave': uq49_microwave_normalised, 'stovetop': uq49_stove_normalised}\n",
    "# circadian_rythm_metrics = circadian_rythm_data\n",
    "# circadian_rythm_test = {'morning': '05:28:00', 'night': '22:21:00'}\n",
    "# data={'microwave_stovetop': microwave_stovetop, \\\n",
    "#       'circadian_rythm_metrics': circadian_rythm_metrics, \\\n",
    "#       'circadian_rythm_test': circadian_rythm_test, \\\n",
    "#      }\n",
    "\n",
    "# r = requests.post('http://localhost:3001/data', json=data)\n",
    "# print(r.json())\n",
    "# print(r.status_code, '\\n')\n",
    "# pp.pprint(data)"
   ]
  },
  {
   "cell_type": "code",
   "execution_count": null,
   "metadata": {},
   "outputs": [],
   "source": []
  },
  {
   "cell_type": "code",
   "execution_count": 96,
   "metadata": {},
   "outputs": [],
   "source": [
    "# TODO: Export data from DB to csv???"
   ]
  },
  {
   "cell_type": "code",
   "execution_count": 174,
   "metadata": {},
   "outputs": [],
   "source": [
    "# Nighttime Disturbances------------------------------------------------------------------------------------"
   ]
  },
  {
   "cell_type": "code",
   "execution_count": 134,
   "metadata": {},
   "outputs": [],
   "source": [
    "# TODO: Add a 2 hour buffer around the circadian rhythm time\n",
    "def compareTime(first, second):\n",
    "    a = datetime.datetime.strptime(first, '%H:%M:%S')\n",
    "    b = datetime.datetime.strptime(second, '%H:%M:%S')\n",
    "    if (a < b):\n",
    "        return -1\n",
    "    elif (a > b):\n",
    "        return 1\n",
    "    else:\n",
    "        return 0"
   ]
  },
  {
   "cell_type": "code",
   "execution_count": 165,
   "metadata": {},
   "outputs": [],
   "source": [
    "# Get spikes (Watts greater than houses resting power use)...\n",
    "# of less than 30 mins in duration between their circadian rhythm times.\n",
    "def get_sleep_disturbances(data):\n",
    "    sleep_disturbances = []\n",
    "    circadian_rythms = []\n",
    "    for household in data:\n",
    "        curr_disturbances = get_peaks(household, 5, 1000, 1, 30, 60)\n",
    "        try:\n",
    "            circadian_rhythm = get_circadian_rythm(household)\n",
    "            print(circadian_rhythm)\n",
    "\n",
    "            curr_disturbances = [peak for peak in curr_disturbances if compareTime(peak[0][11:], circadian_rythm[0]) < 0 \\\n",
    "                                 or compareTime(peak[0][11:], circadian_rythm[1]) > 0]\n",
    "            sleep_disturbances.append(curr_disturbances)\n",
    "        except ZeroDivisionError:\n",
    "            print('div zero error')\n",
    "\n",
    "    return [len(arr) for arr in sleep_disturbances]"
   ]
  },
  {
   "cell_type": "code",
   "execution_count": 166,
   "metadata": {},
   "outputs": [
    {
     "name": "stdout",
     "output_type": "stream",
     "text": [
      "('05:16:00', '22:02:00')\n",
      "('05:13:00', '23:03:00')\n",
      "div zero error\n",
      "('06:16:00', '22:07:00')\n",
      "('06:53:00', '23:08:00')\n",
      "('05:58:00', '21:54:00')\n"
     ]
    },
    {
     "data": {
      "text/plain": [
       "[95, 0, 55, 0, 9]"
      ]
     },
     "execution_count": 166,
     "metadata": {},
     "output_type": "execute_result"
    }
   ],
   "source": [
    "sleep_disturbances = get_sleep_disturbances(light_processed)\n",
    "sleep_disturbances"
   ]
  },
  {
   "cell_type": "code",
   "execution_count": 144,
   "metadata": {},
   "outputs": [
    {
     "data": {
      "text/html": [
       "<div>\n",
       "<style scoped>\n",
       "    .dataframe tbody tr th:only-of-type {\n",
       "        vertical-align: middle;\n",
       "    }\n",
       "\n",
       "    .dataframe tbody tr th {\n",
       "        vertical-align: top;\n",
       "    }\n",
       "\n",
       "    .dataframe thead th {\n",
       "        text-align: right;\n",
       "    }\n",
       "</style>\n",
       "<table border=\"1\" class=\"dataframe\">\n",
       "  <thead>\n",
       "    <tr style=\"text-align: right;\">\n",
       "      <th></th>\n",
       "      <th>0</th>\n",
       "    </tr>\n",
       "  </thead>\n",
       "  <tbody>\n",
       "    <tr>\n",
       "      <th>0</th>\n",
       "      <td>[{'time': '2021-03-01T00:00:00Z', 'PF': None, ...</td>\n",
       "    </tr>\n",
       "    <tr>\n",
       "      <th>1</th>\n",
       "      <td>[{'time': '2021-03-02T03:46:40Z', 'PF': None, ...</td>\n",
       "    </tr>\n",
       "    <tr>\n",
       "      <th>2</th>\n",
       "      <td>[{'time': '2021-03-03T08:55:50Z', 'PF': None, ...</td>\n",
       "    </tr>\n",
       "    <tr>\n",
       "      <th>3</th>\n",
       "      <td>[{'time': '2021-03-04T12:42:30Z', 'PF': None, ...</td>\n",
       "    </tr>\n",
       "    <tr>\n",
       "      <th>4</th>\n",
       "      <td>[{'time': '2021-03-05T16:29:10Z', 'PF': None, ...</td>\n",
       "    </tr>\n",
       "    <tr>\n",
       "      <th>5</th>\n",
       "      <td>[{'time': '2021-03-06T20:15:50Z', 'PF': None, ...</td>\n",
       "    </tr>\n",
       "    <tr>\n",
       "      <th>6</th>\n",
       "      <td>[{'time': '2021-03-08T00:02:30Z', 'PF': None, ...</td>\n",
       "    </tr>\n",
       "    <tr>\n",
       "      <th>7</th>\n",
       "      <td>[{'time': '2021-03-09T03:49:10Z', 'PF': None, ...</td>\n",
       "    </tr>\n",
       "    <tr>\n",
       "      <th>8</th>\n",
       "      <td>[{'time': '2021-03-10T07:35:50Z', 'PF': None, ...</td>\n",
       "    </tr>\n",
       "    <tr>\n",
       "      <th>9</th>\n",
       "      <td>[{'time': '2021-03-11T11:22:30Z', 'PF': None, ...</td>\n",
       "    </tr>\n",
       "    <tr>\n",
       "      <th>10</th>\n",
       "      <td>[{'time': '2021-03-12T15:09:10Z', 'PF': None, ...</td>\n",
       "    </tr>\n",
       "    <tr>\n",
       "      <th>11</th>\n",
       "      <td>[{'time': '2021-03-13T18:55:50Z', 'PF': None, ...</td>\n",
       "    </tr>\n",
       "    <tr>\n",
       "      <th>12</th>\n",
       "      <td>[{'time': '2021-03-14T22:42:30Z', 'PF': None, ...</td>\n",
       "    </tr>\n",
       "    <tr>\n",
       "      <th>13</th>\n",
       "      <td>[{'time': '2021-03-16T02:29:10Z', 'PF': None, ...</td>\n",
       "    </tr>\n",
       "    <tr>\n",
       "      <th>14</th>\n",
       "      <td>[{'time': '2021-03-17T06:15:50Z', 'PF': None, ...</td>\n",
       "    </tr>\n",
       "    <tr>\n",
       "      <th>15</th>\n",
       "      <td>[{'time': '2021-03-18T10:02:30Z', 'PF': None, ...</td>\n",
       "    </tr>\n",
       "    <tr>\n",
       "      <th>16</th>\n",
       "      <td>[{'time': '2021-03-19T13:49:10Z', 'PF': None, ...</td>\n",
       "    </tr>\n",
       "    <tr>\n",
       "      <th>17</th>\n",
       "      <td>[{'time': '2021-03-20T17:35:50Z', 'PF': None, ...</td>\n",
       "    </tr>\n",
       "    <tr>\n",
       "      <th>18</th>\n",
       "      <td>[{'time': '2021-03-21T21:22:30Z', 'PF': None, ...</td>\n",
       "    </tr>\n",
       "    <tr>\n",
       "      <th>19</th>\n",
       "      <td>[{'time': '2021-03-23T01:09:10Z', 'PF': None, ...</td>\n",
       "    </tr>\n",
       "    <tr>\n",
       "      <th>20</th>\n",
       "      <td>[{'time': '2021-03-24T04:55:50Z', 'PF': None, ...</td>\n",
       "    </tr>\n",
       "    <tr>\n",
       "      <th>21</th>\n",
       "      <td>[{'time': '2021-03-25T08:42:30Z', 'PF': None, ...</td>\n",
       "    </tr>\n",
       "    <tr>\n",
       "      <th>22</th>\n",
       "      <td>[{'time': '2021-03-26T12:29:10Z', 'PF': None, ...</td>\n",
       "    </tr>\n",
       "    <tr>\n",
       "      <th>23</th>\n",
       "      <td>[{'time': '2021-03-27T16:15:50Z', 'PF': None, ...</td>\n",
       "    </tr>\n",
       "    <tr>\n",
       "      <th>24</th>\n",
       "      <td>[{'time': '2021-03-28T20:05:00Z', 'PF': None, ...</td>\n",
       "    </tr>\n",
       "    <tr>\n",
       "      <th>25</th>\n",
       "      <td>[{'time': '2021-03-29T23:51:40Z', 'PF': None, ...</td>\n",
       "    </tr>\n",
       "    <tr>\n",
       "      <th>26</th>\n",
       "      <td>[{'time': '2021-03-31T03:38:20Z', 'PF': None, ...</td>\n",
       "    </tr>\n",
       "  </tbody>\n",
       "</table>\n",
       "</div>"
      ],
      "text/plain": [
       "                                                    0\n",
       "0   [{'time': '2021-03-01T00:00:00Z', 'PF': None, ...\n",
       "1   [{'time': '2021-03-02T03:46:40Z', 'PF': None, ...\n",
       "2   [{'time': '2021-03-03T08:55:50Z', 'PF': None, ...\n",
       "3   [{'time': '2021-03-04T12:42:30Z', 'PF': None, ...\n",
       "4   [{'time': '2021-03-05T16:29:10Z', 'PF': None, ...\n",
       "5   [{'time': '2021-03-06T20:15:50Z', 'PF': None, ...\n",
       "6   [{'time': '2021-03-08T00:02:30Z', 'PF': None, ...\n",
       "7   [{'time': '2021-03-09T03:49:10Z', 'PF': None, ...\n",
       "8   [{'time': '2021-03-10T07:35:50Z', 'PF': None, ...\n",
       "9   [{'time': '2021-03-11T11:22:30Z', 'PF': None, ...\n",
       "10  [{'time': '2021-03-12T15:09:10Z', 'PF': None, ...\n",
       "11  [{'time': '2021-03-13T18:55:50Z', 'PF': None, ...\n",
       "12  [{'time': '2021-03-14T22:42:30Z', 'PF': None, ...\n",
       "13  [{'time': '2021-03-16T02:29:10Z', 'PF': None, ...\n",
       "14  [{'time': '2021-03-17T06:15:50Z', 'PF': None, ...\n",
       "15  [{'time': '2021-03-18T10:02:30Z', 'PF': None, ...\n",
       "16  [{'time': '2021-03-19T13:49:10Z', 'PF': None, ...\n",
       "17  [{'time': '2021-03-20T17:35:50Z', 'PF': None, ...\n",
       "18  [{'time': '2021-03-21T21:22:30Z', 'PF': None, ...\n",
       "19  [{'time': '2021-03-23T01:09:10Z', 'PF': None, ...\n",
       "20  [{'time': '2021-03-24T04:55:50Z', 'PF': None, ...\n",
       "21  [{'time': '2021-03-25T08:42:30Z', 'PF': None, ...\n",
       "22  [{'time': '2021-03-26T12:29:10Z', 'PF': None, ...\n",
       "23  [{'time': '2021-03-27T16:15:50Z', 'PF': None, ...\n",
       "24  [{'time': '2021-03-28T20:05:00Z', 'PF': None, ...\n",
       "25  [{'time': '2021-03-29T23:51:40Z', 'PF': None, ...\n",
       "26  [{'time': '2021-03-31T03:38:20Z', 'PF': None, ..."
      ]
     },
     "execution_count": 144,
     "metadata": {},
     "output_type": "execute_result"
    }
   ],
   "source": [
    "q = \"\"\"SELECT * FROM \"iotawatt\" WHERE \"device\" = 'uq49' AND \"sensor\" = 'Lights1' AND \"time\" >= '2021-03-01T00:00:00Z' AND \"time\" <= '2021-03-31T23:59:50Z'\"\"\"\n",
    "\n",
    "uq49_light_data = pd.DataFrame(client2.query(q, chunked=True))\n",
    "uq49_light_data"
   ]
  },
  {
   "cell_type": "code",
   "execution_count": 160,
   "metadata": {},
   "outputs": [
    {
     "name": "stdout",
     "output_type": "stream",
     "text": [
      "Processing:                        Watts\n",
      "time                       \n",
      "2021-03-01T00:00:00Z  62.35\n",
      "2021-03-01T00:00:10Z  62.46\n",
      "2021-03-01T00:00:20Z  62.29\n",
      "2021-03-01T00:00:30Z  62.31\n",
      "2021-03-01T00:00:40Z  62.42\n",
      "...                     ...\n",
      "2021-03-31T23:59:10Z  38.99\n",
      "2021-03-31T23:59:20Z  38.93\n",
      "2021-03-31T23:59:30Z  38.96\n",
      "2021-03-31T23:59:40Z  38.97\n",
      "2021-03-31T23:59:50Z  39.02\n",
      "\n",
      "[267330 rows x 1 columns]\n",
      "Post process:  time\n",
      "2021-03-01T00:00:00Z    62\n",
      "2021-03-01T00:00:10Z    62\n",
      "2021-03-01T00:00:20Z    62\n",
      "2021-03-01T00:00:30Z    62\n",
      "2021-03-01T00:00:40Z    62\n",
      "                        ..\n",
      "2021-03-31T23:59:10Z    39\n",
      "2021-03-31T23:59:20Z    39\n",
      "2021-03-31T23:59:30Z    39\n",
      "2021-03-31T23:59:40Z    39\n",
      "2021-03-31T23:59:50Z    39\n",
      "Length: 267330, dtype: int64\n"
     ]
    },
    {
     "data": {
      "text/plain": [
       "[time\n",
       " 2021-03-01 00:00:00    62\n",
       " 2021-03-01 00:00:10    62\n",
       " 2021-03-01 00:00:20    62\n",
       " 2021-03-01 00:00:30    62\n",
       " 2021-03-01 00:00:40    62\n",
       "                        ..\n",
       " 2021-03-31 23:59:10    39\n",
       " 2021-03-31 23:59:20    39\n",
       " 2021-03-31 23:59:30    39\n",
       " 2021-03-31 23:59:40    39\n",
       " 2021-03-31 23:59:50    39\n",
       " Length: 267330, dtype: int64]"
      ]
     },
     "execution_count": 160,
     "metadata": {},
     "output_type": "execute_result"
    }
   ],
   "source": [
    "uq49_light_data_processed = pre_process(uq49_light_data)\n",
    "uq49_light_data_processed"
   ]
  },
  {
   "cell_type": "code",
   "execution_count": 167,
   "metadata": {},
   "outputs": [
    {
     "name": "stdout",
     "output_type": "stream",
     "text": [
      "('07:39:00', '23:02:00')\n"
     ]
    },
    {
     "data": {
      "text/plain": [
       "[0]"
      ]
     },
     "execution_count": 167,
     "metadata": {},
     "output_type": "execute_result"
    }
   ],
   "source": [
    "uq49_sleep_disturbances = get_sleep_disturbances(uq49_light_data_processed)\n",
    "uq49_sleep_disturbances"
   ]
  },
  {
   "cell_type": "code",
   "execution_count": 171,
   "metadata": {
    "scrolled": false
   },
   "outputs": [
    {
     "data": {
      "text/plain": [
       "-1.0"
      ]
     },
     "execution_count": 171,
     "metadata": {},
     "output_type": "execute_result"
    }
   ],
   "source": [
    "uq49_sleep_disturbances_normalised = normalise(uq49_sleep_disturbances[0], min(sleep_disturbances), max(sleep_disturbances))\n",
    "uq49_sleep_disturbances_normalised"
   ]
  },
  {
   "cell_type": "code",
   "execution_count": 175,
   "metadata": {},
   "outputs": [],
   "source": [
    "# Work Schedule-------------------------------------------------------------------------------------------------------"
   ]
  },
  {
   "cell_type": "code",
   "execution_count": 176,
   "metadata": {},
   "outputs": [],
   "source": [
    "def get_work_schedules(data):\n",
    "    lst = []\n",
    "    for household in data:\n",
    "        try:\n",
    "            lst.append(get_work_schedule(household))\n",
    "        except ZeroDivisionError:\n",
    "            print(\"zero div err\")\n",
    "#             lst.append(('0', '0'))\n",
    "            \n",
    "    return lst"
   ]
  },
  {
   "cell_type": "code",
   "execution_count": 177,
   "metadata": {},
   "outputs": [
    {
     "name": "stdout",
     "output_type": "stream",
     "text": [
      "zero div err\n",
      "zero div err\n",
      "zero div err\n"
     ]
    },
    {
     "data": {
      "text/plain": [
       "[('07:26:00', '15:40:00'), ('07:18:00', '14:00:00'), ('06:00:00', '16:56:00')]"
      ]
     },
     "execution_count": 177,
     "metadata": {},
     "output_type": "execute_result"
    }
   ],
   "source": [
    "work_schedules = get_work_schedules(light_processed)\n",
    "work_schedules"
   ]
  },
  {
   "cell_type": "code",
   "execution_count": 185,
   "metadata": {},
   "outputs": [],
   "source": [
    "def hoursBetween(first, second):\n",
    "    a = datetime.datetime.strptime(first, '%H:%M:%S')\n",
    "    b = datetime.datetime.strptime(second, '%H:%M:%S')\n",
    "    diff = b - a\n",
    "    return int(diff.total_seconds() // 60)"
   ]
  },
  {
   "cell_type": "code",
   "execution_count": 186,
   "metadata": {},
   "outputs": [],
   "source": [
    "def get_work_durations(work_schedules):\n",
    "    duration = []\n",
    "    for tup in work_schedules:\n",
    "        duration.append(hoursBetween(tup[0], tup[1]))\n",
    "    return duration        "
   ]
  },
  {
   "cell_type": "code",
   "execution_count": 187,
   "metadata": {},
   "outputs": [
    {
     "data": {
      "text/plain": [
       "[494, 402, 656]"
      ]
     },
     "execution_count": 187,
     "metadata": {},
     "output_type": "execute_result"
    }
   ],
   "source": [
    "work_durations = get_work_durations(work_schedules)\n",
    "work_durations"
   ]
  },
  {
   "cell_type": "code",
   "execution_count": 188,
   "metadata": {},
   "outputs": [
    {
     "data": {
      "text/plain": [
       "[('07:17:00', '15:32:00')]"
      ]
     },
     "execution_count": 188,
     "metadata": {},
     "output_type": "execute_result"
    }
   ],
   "source": [
    "uq49_work_schedule = get_work_schedules(uq49_light_data_processed)\n",
    "uq49_work_schedule"
   ]
  },
  {
   "cell_type": "code",
   "execution_count": 189,
   "metadata": {},
   "outputs": [
    {
     "data": {
      "text/plain": [
       "[495]"
      ]
     },
     "execution_count": 189,
     "metadata": {},
     "output_type": "execute_result"
    }
   ],
   "source": [
    "uq49_work_duration = get_work_duration(uq49_work_schedule)\n",
    "uq49_work_duration"
   ]
  },
  {
   "cell_type": "code",
   "execution_count": 190,
   "metadata": {},
   "outputs": [
    {
     "data": {
      "text/plain": [
       "-0.27"
      ]
     },
     "execution_count": 190,
     "metadata": {},
     "output_type": "execute_result"
    }
   ],
   "source": [
    "uq49_work_duration_normalised = normalise(uq49_work_duration[0], min(work_durations), max(work_durations))\n",
    "uq49_work_duration_normalised"
   ]
  },
  {
   "cell_type": "code",
   "execution_count": 192,
   "metadata": {},
   "outputs": [],
   "source": [
    "# RANKING ---------------------------------------------------------------------------------------------------------"
   ]
  },
  {
   "cell_type": "code",
   "execution_count": 196,
   "metadata": {},
   "outputs": [],
   "source": [
    "# Returns a ranked value between 0 and 100\n",
    "def rank(oldValue):\n",
    "    oldMin = -1\n",
    "    oldMax = 1\n",
    "    newMin = 0\n",
    "    newMax = 100\n",
    "    \n",
    "    oldRange = (oldMax - oldMin)  \n",
    "    newRange = (newMax - newMin)  \n",
    "    newValue = (((oldValue - oldMin) * newRange) / oldRange) + newMin\n",
    "    \n",
    "    return int(newValue)"
   ]
  },
  {
   "cell_type": "code",
   "execution_count": 203,
   "metadata": {},
   "outputs": [
    {
     "data": {
      "text/plain": [
       "0"
      ]
     },
     "execution_count": 203,
     "metadata": {},
     "output_type": "execute_result"
    }
   ],
   "source": [
    "uq49_sleep_disturbances_ranked = rank(uq49_sleep_disturbances_normalised)\n",
    "uq49_sleep_disturbances_ranked"
   ]
  },
  {
   "cell_type": "code",
   "execution_count": 204,
   "metadata": {},
   "outputs": [
    {
     "data": {
      "text/plain": [
       "36"
      ]
     },
     "execution_count": 204,
     "metadata": {},
     "output_type": "execute_result"
    }
   ],
   "source": [
    "uq49_work_duration_ranked = rank(uq49_work_duration_normalised)\n",
    "uq49_work_duration_ranked"
   ]
  },
  {
   "cell_type": "code",
   "execution_count": null,
   "metadata": {},
   "outputs": [],
   "source": []
  }
 ],
 "metadata": {
  "kernelspec": {
   "display_name": "Python 3",
   "language": "python",
   "name": "python3"
  },
  "language_info": {
   "codemirror_mode": {
    "name": "ipython",
    "version": 3
   },
   "file_extension": ".py",
   "mimetype": "text/x-python",
   "name": "python",
   "nbconvert_exporter": "python",
   "pygments_lexer": "ipython3",
   "version": "3.7.3"
  }
 },
 "nbformat": 4,
 "nbformat_minor": 2
}
